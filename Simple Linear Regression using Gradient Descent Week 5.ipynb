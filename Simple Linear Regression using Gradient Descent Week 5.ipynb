{
 "cells": [
  {
   "cell_type": "code",
   "execution_count": 1,
   "id": "9375f0fd",
   "metadata": {},
   "outputs": [],
   "source": [
    "import pandas as pd\n",
    "import numpy as np\n",
    "import matplotlib.pyplot as plt"
   ]
  },
  {
   "cell_type": "code",
   "execution_count": 2,
   "id": "d3c01244",
   "metadata": {},
   "outputs": [],
   "source": [
    "x = np.random.randint(1000, size = 100)\n",
    "y = np.random.randint(100,size = 100)"
   ]
  },
  {
   "cell_type": "code",
   "execution_count": 3,
   "id": "fb67229b",
   "metadata": {},
   "outputs": [],
   "source": [
    "from sklearn.linear_model import LinearRegression"
   ]
  },
  {
   "cell_type": "code",
   "execution_count": 4,
   "id": "783bebe9",
   "metadata": {},
   "outputs": [],
   "source": [
    "def init_params():\n",
    "    m = np.random.uniform(0, 1)\n",
    "    b = np.random.uniform(0,1)\n",
    "    return m,b"
   ]
  },
  {
   "cell_type": "code",
   "execution_count": 5,
   "id": "79b718ec",
   "metadata": {},
   "outputs": [
    {
     "data": {
      "text/plain": [
       "0.16276523175615942"
      ]
     },
     "execution_count": 5,
     "metadata": {},
     "output_type": "execute_result"
    }
   ],
   "source": [
    "m,b = init_params()\n",
    "m"
   ]
  },
  {
   "cell_type": "code",
   "execution_count": 6,
   "id": "47d0285c",
   "metadata": {},
   "outputs": [],
   "source": [
    "def gradients(x,y,y_pred,n):\n",
    "    dm = -2*(x.dot(y-y_pred).sum())/n\n",
    "    db = -2*((y-y_pred).sum())/n\n",
    "    return db,dm"
   ]
  },
  {
   "cell_type": "code",
   "execution_count": 7,
   "id": "b113caf7",
   "metadata": {},
   "outputs": [],
   "source": [
    "def update_params(m,b,dm,db,lr):\n",
    "    m = m - lr*dm\n",
    "    b = b - lr*db\n",
    "    return m,b"
   ]
  },
  {
   "cell_type": "code",
   "execution_count": 8,
   "id": "6ecaeb39",
   "metadata": {},
   "outputs": [],
   "source": [
    "def gradient_descent(y,epochs,learning_rate):\n",
    "    m,b = init_params()\n",
    "    n = len(y)\n",
    "    for i in range(epochs):\n",
    "        learning_rate = learning_rate/1.01\n",
    "        y_pred = m*x + b\n",
    "        cost = 1/n*np.sum((y_pred - y)**2)\n",
    "        if i%10 == 0:\n",
    "            print('cost function for ',i,' iteration is',cost)\n",
    "        dm,db = gradients(x,y,y_pred,n)\n",
    "        m = m - learning_rate*dm\n",
    "        b = b - learning_rate*db\n",
    "    return cost"
   ]
  },
  {
   "cell_type": "code",
   "execution_count": 9,
   "id": "c9f7fd99",
   "metadata": {},
   "outputs": [
    {
     "name": "stdout",
     "output_type": "stream",
     "text": [
      "cost function for  0  iteration is 210668.40529618994\n",
      "cost function for  10  iteration is 149286.4469284397\n",
      "cost function for  20  iteration is 111786.27668779597\n",
      "cost function for  30  iteration is 88060.90314961551\n",
      "cost function for  40  iteration is 72577.7178263463\n",
      "cost function for  50  iteration is 62192.29847846837\n",
      "cost function for  60  iteration is 55055.335288096256\n",
      "cost function for  70  iteration is 50044.74707055309\n"
     ]
    }
   ],
   "source": [
    "cost = gradient_descent(y,75,0.00001)"
   ]
  },
  {
   "cell_type": "code",
   "execution_count": null,
   "id": "42144c94",
   "metadata": {},
   "outputs": [],
   "source": []
  }
 ],
 "metadata": {
  "kernelspec": {
   "display_name": "Python 3 (ipykernel)",
   "language": "python",
   "name": "python3"
  },
  "language_info": {
   "codemirror_mode": {
    "name": "ipython",
    "version": 3
   },
   "file_extension": ".py",
   "mimetype": "text/x-python",
   "name": "python",
   "nbconvert_exporter": "python",
   "pygments_lexer": "ipython3",
   "version": "3.9.13"
  }
 },
 "nbformat": 4,
 "nbformat_minor": 5
}

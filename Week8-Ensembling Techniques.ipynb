{
 "cells": [
  {
   "cell_type": "code",
   "execution_count": 29,
   "metadata": {
    "execution": {
     "iopub.execute_input": "2023-04-26T06:56:24.115587Z",
     "iopub.status.busy": "2023-04-26T06:56:24.113696Z",
     "iopub.status.idle": "2023-04-26T06:56:24.123959Z",
     "shell.execute_reply": "2023-04-26T06:56:24.121842Z",
     "shell.execute_reply.started": "2023-04-26T06:56:24.115519Z"
    }
   },
   "outputs": [],
   "source": [
    "import pandas as pd\n",
    "import numpy as np\n",
    "from sklearn.ensemble import AdaBoostClassifier\n",
    "from sklearn.preprocessing import LabelEncoder\n",
    "from sklearn.tree import DecisionTreeClassifier\n",
    "from sklearn.model_selection import RandomizedSearchCV, GridSearchCV\n",
    "from sklearn import tree\n",
    "from sklearn.model_selection import train_test_split\n",
    "from sklearn import metrics\n",
    "from matplotlib import pyplot as plt"
   ]
  },
  {
   "cell_type": "code",
   "execution_count": 2,
   "metadata": {
    "execution": {
     "iopub.execute_input": "2023-04-26T06:32:18.268723Z",
     "iopub.status.busy": "2023-04-26T06:32:18.268146Z",
     "iopub.status.idle": "2023-04-26T06:32:18.303271Z",
     "shell.execute_reply": "2023-04-26T06:32:18.301697Z",
     "shell.execute_reply.started": "2023-04-26T06:32:18.268668Z"
    }
   },
   "outputs": [],
   "source": [
    "mobile_train = pd.read_csv('/kaggle/input/mobile-price-classification/train.csv')"
   ]
  },
  {
   "cell_type": "markdown",
   "metadata": {},
   "source": [
    "# Without using Pipeline"
   ]
  },
  {
   "cell_type": "code",
   "execution_count": 3,
   "metadata": {
    "execution": {
     "iopub.execute_input": "2023-04-26T06:32:19.992873Z",
     "iopub.status.busy": "2023-04-26T06:32:19.992314Z",
     "iopub.status.idle": "2023-04-26T06:32:20.049306Z",
     "shell.execute_reply": "2023-04-26T06:32:20.047770Z",
     "shell.execute_reply.started": "2023-04-26T06:32:19.992822Z"
    }
   },
   "outputs": [
    {
     "data": {
      "text/html": [
       "<div>\n",
       "<style scoped>\n",
       "    .dataframe tbody tr th:only-of-type {\n",
       "        vertical-align: middle;\n",
       "    }\n",
       "\n",
       "    .dataframe tbody tr th {\n",
       "        vertical-align: top;\n",
       "    }\n",
       "\n",
       "    .dataframe thead th {\n",
       "        text-align: right;\n",
       "    }\n",
       "</style>\n",
       "<table border=\"1\" class=\"dataframe\">\n",
       "  <thead>\n",
       "    <tr style=\"text-align: right;\">\n",
       "      <th></th>\n",
       "      <th>battery_power</th>\n",
       "      <th>blue</th>\n",
       "      <th>clock_speed</th>\n",
       "      <th>dual_sim</th>\n",
       "      <th>fc</th>\n",
       "      <th>four_g</th>\n",
       "      <th>int_memory</th>\n",
       "      <th>m_dep</th>\n",
       "      <th>mobile_wt</th>\n",
       "      <th>n_cores</th>\n",
       "      <th>...</th>\n",
       "      <th>px_height</th>\n",
       "      <th>px_width</th>\n",
       "      <th>ram</th>\n",
       "      <th>sc_h</th>\n",
       "      <th>sc_w</th>\n",
       "      <th>talk_time</th>\n",
       "      <th>three_g</th>\n",
       "      <th>touch_screen</th>\n",
       "      <th>wifi</th>\n",
       "      <th>price_range</th>\n",
       "    </tr>\n",
       "  </thead>\n",
       "  <tbody>\n",
       "    <tr>\n",
       "      <th>0</th>\n",
       "      <td>842</td>\n",
       "      <td>0</td>\n",
       "      <td>2.2</td>\n",
       "      <td>0</td>\n",
       "      <td>1</td>\n",
       "      <td>0</td>\n",
       "      <td>7</td>\n",
       "      <td>0.6</td>\n",
       "      <td>188</td>\n",
       "      <td>2</td>\n",
       "      <td>...</td>\n",
       "      <td>20</td>\n",
       "      <td>756</td>\n",
       "      <td>2549</td>\n",
       "      <td>9</td>\n",
       "      <td>7</td>\n",
       "      <td>19</td>\n",
       "      <td>0</td>\n",
       "      <td>0</td>\n",
       "      <td>1</td>\n",
       "      <td>1</td>\n",
       "    </tr>\n",
       "    <tr>\n",
       "      <th>1</th>\n",
       "      <td>1021</td>\n",
       "      <td>1</td>\n",
       "      <td>0.5</td>\n",
       "      <td>1</td>\n",
       "      <td>0</td>\n",
       "      <td>1</td>\n",
       "      <td>53</td>\n",
       "      <td>0.7</td>\n",
       "      <td>136</td>\n",
       "      <td>3</td>\n",
       "      <td>...</td>\n",
       "      <td>905</td>\n",
       "      <td>1988</td>\n",
       "      <td>2631</td>\n",
       "      <td>17</td>\n",
       "      <td>3</td>\n",
       "      <td>7</td>\n",
       "      <td>1</td>\n",
       "      <td>1</td>\n",
       "      <td>0</td>\n",
       "      <td>2</td>\n",
       "    </tr>\n",
       "    <tr>\n",
       "      <th>2</th>\n",
       "      <td>563</td>\n",
       "      <td>1</td>\n",
       "      <td>0.5</td>\n",
       "      <td>1</td>\n",
       "      <td>2</td>\n",
       "      <td>1</td>\n",
       "      <td>41</td>\n",
       "      <td>0.9</td>\n",
       "      <td>145</td>\n",
       "      <td>5</td>\n",
       "      <td>...</td>\n",
       "      <td>1263</td>\n",
       "      <td>1716</td>\n",
       "      <td>2603</td>\n",
       "      <td>11</td>\n",
       "      <td>2</td>\n",
       "      <td>9</td>\n",
       "      <td>1</td>\n",
       "      <td>1</td>\n",
       "      <td>0</td>\n",
       "      <td>2</td>\n",
       "    </tr>\n",
       "    <tr>\n",
       "      <th>3</th>\n",
       "      <td>615</td>\n",
       "      <td>1</td>\n",
       "      <td>2.5</td>\n",
       "      <td>0</td>\n",
       "      <td>0</td>\n",
       "      <td>0</td>\n",
       "      <td>10</td>\n",
       "      <td>0.8</td>\n",
       "      <td>131</td>\n",
       "      <td>6</td>\n",
       "      <td>...</td>\n",
       "      <td>1216</td>\n",
       "      <td>1786</td>\n",
       "      <td>2769</td>\n",
       "      <td>16</td>\n",
       "      <td>8</td>\n",
       "      <td>11</td>\n",
       "      <td>1</td>\n",
       "      <td>0</td>\n",
       "      <td>0</td>\n",
       "      <td>2</td>\n",
       "    </tr>\n",
       "    <tr>\n",
       "      <th>4</th>\n",
       "      <td>1821</td>\n",
       "      <td>1</td>\n",
       "      <td>1.2</td>\n",
       "      <td>0</td>\n",
       "      <td>13</td>\n",
       "      <td>1</td>\n",
       "      <td>44</td>\n",
       "      <td>0.6</td>\n",
       "      <td>141</td>\n",
       "      <td>2</td>\n",
       "      <td>...</td>\n",
       "      <td>1208</td>\n",
       "      <td>1212</td>\n",
       "      <td>1411</td>\n",
       "      <td>8</td>\n",
       "      <td>2</td>\n",
       "      <td>15</td>\n",
       "      <td>1</td>\n",
       "      <td>1</td>\n",
       "      <td>0</td>\n",
       "      <td>1</td>\n",
       "    </tr>\n",
       "  </tbody>\n",
       "</table>\n",
       "<p>5 rows × 21 columns</p>\n",
       "</div>"
      ],
      "text/plain": [
       "   battery_power  blue  clock_speed  dual_sim  fc  four_g  int_memory  m_dep  \\\n",
       "0            842     0          2.2         0   1       0           7    0.6   \n",
       "1           1021     1          0.5         1   0       1          53    0.7   \n",
       "2            563     1          0.5         1   2       1          41    0.9   \n",
       "3            615     1          2.5         0   0       0          10    0.8   \n",
       "4           1821     1          1.2         0  13       1          44    0.6   \n",
       "\n",
       "   mobile_wt  n_cores  ...  px_height  px_width   ram  sc_h  sc_w  talk_time  \\\n",
       "0        188        2  ...         20       756  2549     9     7         19   \n",
       "1        136        3  ...        905      1988  2631    17     3          7   \n",
       "2        145        5  ...       1263      1716  2603    11     2          9   \n",
       "3        131        6  ...       1216      1786  2769    16     8         11   \n",
       "4        141        2  ...       1208      1212  1411     8     2         15   \n",
       "\n",
       "   three_g  touch_screen  wifi  price_range  \n",
       "0        0             0     1            1  \n",
       "1        1             1     0            2  \n",
       "2        1             1     0            2  \n",
       "3        1             0     0            2  \n",
       "4        1             1     0            1  \n",
       "\n",
       "[5 rows x 21 columns]"
      ]
     },
     "execution_count": 3,
     "metadata": {},
     "output_type": "execute_result"
    }
   ],
   "source": [
    "mobile_train.head()"
   ]
  },
  {
   "cell_type": "code",
   "execution_count": 4,
   "metadata": {
    "execution": {
     "iopub.execute_input": "2023-04-26T06:32:20.112895Z",
     "iopub.status.busy": "2023-04-26T06:32:20.111571Z",
     "iopub.status.idle": "2023-04-26T06:32:20.151489Z",
     "shell.execute_reply": "2023-04-26T06:32:20.149914Z",
     "shell.execute_reply.started": "2023-04-26T06:32:20.112823Z"
    }
   },
   "outputs": [
    {
     "name": "stdout",
     "output_type": "stream",
     "text": [
      "<class 'pandas.core.frame.DataFrame'>\n",
      "RangeIndex: 2000 entries, 0 to 1999\n",
      "Data columns (total 21 columns):\n",
      " #   Column         Non-Null Count  Dtype  \n",
      "---  ------         --------------  -----  \n",
      " 0   battery_power  2000 non-null   int64  \n",
      " 1   blue           2000 non-null   int64  \n",
      " 2   clock_speed    2000 non-null   float64\n",
      " 3   dual_sim       2000 non-null   int64  \n",
      " 4   fc             2000 non-null   int64  \n",
      " 5   four_g         2000 non-null   int64  \n",
      " 6   int_memory     2000 non-null   int64  \n",
      " 7   m_dep          2000 non-null   float64\n",
      " 8   mobile_wt      2000 non-null   int64  \n",
      " 9   n_cores        2000 non-null   int64  \n",
      " 10  pc             2000 non-null   int64  \n",
      " 11  px_height      2000 non-null   int64  \n",
      " 12  px_width       2000 non-null   int64  \n",
      " 13  ram            2000 non-null   int64  \n",
      " 14  sc_h           2000 non-null   int64  \n",
      " 15  sc_w           2000 non-null   int64  \n",
      " 16  talk_time      2000 non-null   int64  \n",
      " 17  three_g        2000 non-null   int64  \n",
      " 18  touch_screen   2000 non-null   int64  \n",
      " 19  wifi           2000 non-null   int64  \n",
      " 20  price_range    2000 non-null   int64  \n",
      "dtypes: float64(2), int64(19)\n",
      "memory usage: 328.2 KB\n"
     ]
    }
   ],
   "source": [
    "mobile_train.info()"
   ]
  },
  {
   "cell_type": "code",
   "execution_count": 5,
   "metadata": {
    "execution": {
     "iopub.execute_input": "2023-04-26T06:40:21.839346Z",
     "iopub.status.busy": "2023-04-26T06:40:21.838664Z",
     "iopub.status.idle": "2023-04-26T06:40:21.851464Z",
     "shell.execute_reply": "2023-04-26T06:40:21.849670Z",
     "shell.execute_reply.started": "2023-04-26T06:40:21.839282Z"
    }
   },
   "outputs": [
    {
     "data": {
      "text/plain": [
       "array([1, 2, 3, 0])"
      ]
     },
     "execution_count": 5,
     "metadata": {},
     "output_type": "execute_result"
    }
   ],
   "source": [
    "mobile_train['price_range'].unique()"
   ]
  },
  {
   "cell_type": "code",
   "execution_count": 6,
   "metadata": {
    "execution": {
     "iopub.execute_input": "2023-04-26T06:40:21.970430Z",
     "iopub.status.busy": "2023-04-26T06:40:21.969575Z",
     "iopub.status.idle": "2023-04-26T06:40:21.983428Z",
     "shell.execute_reply": "2023-04-26T06:40:21.982185Z",
     "shell.execute_reply.started": "2023-04-26T06:40:21.970388Z"
    }
   },
   "outputs": [
    {
     "data": {
      "text/plain": [
       "battery_power    0\n",
       "blue             0\n",
       "clock_speed      0\n",
       "dual_sim         0\n",
       "fc               0\n",
       "four_g           0\n",
       "int_memory       0\n",
       "m_dep            0\n",
       "mobile_wt        0\n",
       "n_cores          0\n",
       "pc               0\n",
       "px_height        0\n",
       "px_width         0\n",
       "ram              0\n",
       "sc_h             0\n",
       "sc_w             0\n",
       "talk_time        0\n",
       "three_g          0\n",
       "touch_screen     0\n",
       "wifi             0\n",
       "price_range      0\n",
       "dtype: int64"
      ]
     },
     "execution_count": 6,
     "metadata": {},
     "output_type": "execute_result"
    }
   ],
   "source": [
    "mobile_train.isna().sum()"
   ]
  },
  {
   "cell_type": "markdown",
   "metadata": {},
   "source": [
    "# No null values"
   ]
  },
  {
   "cell_type": "code",
   "execution_count": 7,
   "metadata": {
    "execution": {
     "iopub.execute_input": "2023-04-26T06:40:22.258987Z",
     "iopub.status.busy": "2023-04-26T06:40:22.258139Z",
     "iopub.status.idle": "2023-04-26T06:40:22.275369Z",
     "shell.execute_reply": "2023-04-26T06:40:22.274202Z",
     "shell.execute_reply.started": "2023-04-26T06:40:22.258944Z"
    }
   },
   "outputs": [
    {
     "data": {
      "text/plain": [
       "0"
      ]
     },
     "execution_count": 7,
     "metadata": {},
     "output_type": "execute_result"
    }
   ],
   "source": [
    "mobile_train.duplicated().sum()\n",
    "# No duplicate values"
   ]
  },
  {
   "cell_type": "code",
   "execution_count": 8,
   "metadata": {
    "execution": {
     "iopub.execute_input": "2023-04-26T06:40:22.408447Z",
     "iopub.status.busy": "2023-04-26T06:40:22.407883Z",
     "iopub.status.idle": "2023-04-26T06:40:22.424524Z",
     "shell.execute_reply": "2023-04-26T06:40:22.423012Z",
     "shell.execute_reply.started": "2023-04-26T06:40:22.408395Z"
    }
   },
   "outputs": [
    {
     "name": "stdout",
     "output_type": "stream",
     "text": [
      "   battery_power  blue  clock_speed  dual_sim  fc  four_g  int_memory  m_dep  \\\n",
      "0            842     0          2.2         0   1       0           7    0.6   \n",
      "1           1021     1          0.5         1   0       1          53    0.7   \n",
      "2            563     1          0.5         1   2       1          41    0.9   \n",
      "3            615     1          2.5         0   0       0          10    0.8   \n",
      "4           1821     1          1.2         0  13       1          44    0.6   \n",
      "\n",
      "   mobile_wt  n_cores  pc  px_height  px_width   ram  sc_h  sc_w  talk_time  \\\n",
      "0        188        2   2         20       756  2549     9     7         19   \n",
      "1        136        3   6        905      1988  2631    17     3          7   \n",
      "2        145        5   6       1263      1716  2603    11     2          9   \n",
      "3        131        6   9       1216      1786  2769    16     8         11   \n",
      "4        141        2  14       1208      1212  1411     8     2         15   \n",
      "\n",
      "   three_g  touch_screen  wifi  \n",
      "0        0             0     1  \n",
      "1        1             1     0  \n",
      "2        1             1     0  \n",
      "3        1             0     0  \n",
      "4        1             1     0  \n",
      "0    1\n",
      "1    2\n",
      "2    2\n",
      "3    2\n",
      "4    1\n",
      "Name: price_range, dtype: int64\n"
     ]
    }
   ],
   "source": [
    "X = mobile_train.iloc[:,:20]\n",
    "Y = mobile_train.iloc[:,20]\n",
    "print(X.head())\n",
    "print(Y.head())"
   ]
  },
  {
   "cell_type": "code",
   "execution_count": 12,
   "metadata": {
    "execution": {
     "iopub.execute_input": "2023-04-26T06:40:29.471440Z",
     "iopub.status.busy": "2023-04-26T06:40:29.470521Z",
     "iopub.status.idle": "2023-04-26T06:40:29.491748Z",
     "shell.execute_reply": "2023-04-26T06:40:29.490390Z",
     "shell.execute_reply.started": "2023-04-26T06:40:29.471382Z"
    }
   },
   "outputs": [
    {
     "name": "stdout",
     "output_type": "stream",
     "text": [
      "<class 'pandas.core.frame.DataFrame'>\n",
      "RangeIndex: 2000 entries, 0 to 1999\n",
      "Data columns (total 20 columns):\n",
      " #   Column         Non-Null Count  Dtype  \n",
      "---  ------         --------------  -----  \n",
      " 0   battery_power  2000 non-null   int64  \n",
      " 1   blue           2000 non-null   int64  \n",
      " 2   clock_speed    2000 non-null   float64\n",
      " 3   dual_sim       2000 non-null   int64  \n",
      " 4   fc             2000 non-null   int64  \n",
      " 5   four_g         2000 non-null   int64  \n",
      " 6   int_memory     2000 non-null   int64  \n",
      " 7   m_dep          2000 non-null   float64\n",
      " 8   mobile_wt      2000 non-null   int64  \n",
      " 9   n_cores        2000 non-null   int64  \n",
      " 10  pc             2000 non-null   int64  \n",
      " 11  px_height      2000 non-null   int64  \n",
      " 12  px_width       2000 non-null   int64  \n",
      " 13  ram            2000 non-null   int64  \n",
      " 14  sc_h           2000 non-null   int64  \n",
      " 15  sc_w           2000 non-null   int64  \n",
      " 16  talk_time      2000 non-null   int64  \n",
      " 17  three_g        2000 non-null   int64  \n",
      " 18  touch_screen   2000 non-null   int64  \n",
      " 19  wifi           2000 non-null   int64  \n",
      "dtypes: float64(2), int64(18)\n",
      "memory usage: 312.6 KB\n",
      "0       1\n",
      "1       2\n",
      "2       2\n",
      "3       2\n",
      "4       1\n",
      "       ..\n",
      "1995    0\n",
      "1996    2\n",
      "1997    3\n",
      "1998    0\n",
      "1999    3\n",
      "Name: price_range, Length: 2000, dtype: int64\n"
     ]
    }
   ],
   "source": [
    "X.info()\n",
    "print(Y)"
   ]
  },
  {
   "cell_type": "code",
   "execution_count": 13,
   "metadata": {
    "execution": {
     "iopub.execute_input": "2023-04-26T06:40:31.310198Z",
     "iopub.status.busy": "2023-04-26T06:40:31.309234Z",
     "iopub.status.idle": "2023-04-26T06:40:31.318787Z",
     "shell.execute_reply": "2023-04-26T06:40:31.317846Z",
     "shell.execute_reply.started": "2023-04-26T06:40:31.310132Z"
    }
   },
   "outputs": [],
   "source": [
    "X_train, X_test, Y_train, Y_test = train_test_split(X, Y, test_size = 0.3, random_state = 42)"
   ]
  },
  {
   "cell_type": "code",
   "execution_count": 14,
   "metadata": {
    "execution": {
     "iopub.execute_input": "2023-04-26T06:40:31.633908Z",
     "iopub.status.busy": "2023-04-26T06:40:31.632969Z",
     "iopub.status.idle": "2023-04-26T06:40:31.658445Z",
     "shell.execute_reply": "2023-04-26T06:40:31.657020Z",
     "shell.execute_reply.started": "2023-04-26T06:40:31.633849Z"
    }
   },
   "outputs": [
    {
     "data": {
      "text/plain": [
       "DecisionTreeClassifier(max_depth=10)"
      ]
     },
     "execution_count": 14,
     "metadata": {},
     "output_type": "execute_result"
    }
   ],
   "source": [
    "model = DecisionTreeClassifier(criterion = 'gini',max_depth = 10)\n",
    "model.fit(X_train,Y_train)"
   ]
  },
  {
   "cell_type": "code",
   "execution_count": 15,
   "metadata": {
    "execution": {
     "iopub.execute_input": "2023-04-26T06:40:31.958196Z",
     "iopub.status.busy": "2023-04-26T06:40:31.957178Z",
     "iopub.status.idle": "2023-04-26T06:40:31.967573Z",
     "shell.execute_reply": "2023-04-26T06:40:31.966143Z",
     "shell.execute_reply.started": "2023-04-26T06:40:31.958126Z"
    }
   },
   "outputs": [],
   "source": [
    "Y_pred_dt = model.predict(X_test)"
   ]
  },
  {
   "cell_type": "code",
   "execution_count": 17,
   "metadata": {
    "execution": {
     "iopub.execute_input": "2023-04-26T06:41:20.225173Z",
     "iopub.status.busy": "2023-04-26T06:41:20.223525Z",
     "iopub.status.idle": "2023-04-26T06:41:20.235905Z",
     "shell.execute_reply": "2023-04-26T06:41:20.234656Z",
     "shell.execute_reply.started": "2023-04-26T06:41:20.225118Z"
    }
   },
   "outputs": [
    {
     "name": "stdout",
     "output_type": "stream",
     "text": [
      "Accuracy score:  0.81\n",
      "Confusion matrix:  [[133  18   0   0]\n",
      " [ 17 114  14   1]\n",
      " [  1  20 109  18]\n",
      " [  0   0  25 130]]\n"
     ]
    }
   ],
   "source": [
    "print('Accuracy score: ', metrics.accuracy_score(Y_test,Y_pred_dt))\n",
    "print('Confusion matrix: ', metrics.confusion_matrix(Y_test,Y_pred_dt))"
   ]
  },
  {
   "cell_type": "code",
   "execution_count": 22,
   "metadata": {
    "execution": {
     "iopub.execute_input": "2023-04-26T06:49:19.405370Z",
     "iopub.status.busy": "2023-04-26T06:49:19.403921Z",
     "iopub.status.idle": "2023-04-26T06:49:21.625545Z",
     "shell.execute_reply": "2023-04-26T06:49:21.624055Z",
     "shell.execute_reply.started": "2023-04-26T06:49:19.405317Z"
    }
   },
   "outputs": [
    {
     "name": "stdout",
     "output_type": "stream",
     "text": [
      "Test score 0.8283333333333334\n",
      "Test Confusion matrix[[135  12   0   0]\n",
      " [ 16 122  20   0]\n",
      " [  0  11 111  26]\n",
      " [  0   1  17 129]]\n"
     ]
    }
   ],
   "source": [
    "params = {'max_depth': [2,4,6,8,10,12],\n",
    "         'min_samples_split': [2,3,4],\n",
    "         'min_samples_leaf': [1,2]}\n",
    "\n",
    "clf = tree.DecisionTreeClassifier()\n",
    "gcv = GridSearchCV(estimator=clf,param_grid=params)\n",
    "gcv.fit(X_train,Y_train)\n",
    "model = gcv.best_estimator_\n",
    "model.fit(X_train,Y_train)\n",
    "y_test_pred_preprun = model.predict(X_test)\n",
    "print(f'Test score {metrics.accuracy_score(y_test_pred_preprun,Y_test)}')\n",
    "print(f'Test Confusion matrix{metrics.confusion_matrix(y_test_pred_preprun,Y_test)}')"
   ]
  },
  {
   "cell_type": "code",
   "execution_count": 23,
   "metadata": {
    "execution": {
     "iopub.execute_input": "2023-04-26T06:51:08.972101Z",
     "iopub.status.busy": "2023-04-26T06:51:08.971576Z",
     "iopub.status.idle": "2023-04-26T06:51:08.981070Z",
     "shell.execute_reply": "2023-04-26T06:51:08.979310Z",
     "shell.execute_reply.started": "2023-04-26T06:51:08.972057Z"
    }
   },
   "outputs": [
    {
     "name": "stdout",
     "output_type": "stream",
     "text": [
      "DecisionTreeClassifier(max_depth=8, min_samples_leaf=2)\n"
     ]
    }
   ],
   "source": [
    "print(gcv.best_estimator_)"
   ]
  },
  {
   "cell_type": "code",
   "execution_count": 53,
   "metadata": {
    "execution": {
     "iopub.execute_input": "2023-04-26T07:02:10.843872Z",
     "iopub.status.busy": "2023-04-26T07:02:10.843287Z",
     "iopub.status.idle": "2023-04-26T07:02:10.851033Z",
     "shell.execute_reply": "2023-04-26T07:02:10.849421Z",
     "shell.execute_reply.started": "2023-04-26T07:02:10.843821Z"
    }
   },
   "outputs": [],
   "source": [
    "AdaBoost = AdaBoostClassifier(base_estimator = model, n_estimators = 200, learning_rate = 1)"
   ]
  },
  {
   "cell_type": "code",
   "execution_count": 54,
   "metadata": {
    "execution": {
     "iopub.execute_input": "2023-04-26T07:02:11.078614Z",
     "iopub.status.busy": "2023-04-26T07:02:11.078079Z",
     "iopub.status.idle": "2023-04-26T07:02:13.887636Z",
     "shell.execute_reply": "2023-04-26T07:02:13.886237Z",
     "shell.execute_reply.started": "2023-04-26T07:02:11.078549Z"
    }
   },
   "outputs": [],
   "source": [
    "AdaBoost.fit(X_train,Y_train)\n",
    "Y_pred_ada = AdaBoost.predict(X_test)"
   ]
  },
  {
   "cell_type": "code",
   "execution_count": 55,
   "metadata": {
    "execution": {
     "iopub.execute_input": "2023-04-26T07:02:13.890402Z",
     "iopub.status.busy": "2023-04-26T07:02:13.889992Z",
     "iopub.status.idle": "2023-04-26T07:02:13.897892Z",
     "shell.execute_reply": "2023-04-26T07:02:13.896221Z",
     "shell.execute_reply.started": "2023-04-26T07:02:13.890365Z"
    }
   },
   "outputs": [
    {
     "name": "stdout",
     "output_type": "stream",
     "text": [
      "Accuracy score:  0.8933333333333333\n"
     ]
    }
   ],
   "source": [
    "print('Accuracy score: ', metrics.accuracy_score(Y_test,Y_pred_ada))"
   ]
  },
  {
   "cell_type": "markdown",
   "metadata": {},
   "source": [
    "# Using Pipeline"
   ]
  },
  {
   "cell_type": "code",
   "execution_count": 56,
   "metadata": {
    "execution": {
     "iopub.execute_input": "2023-04-26T07:05:47.715841Z",
     "iopub.status.busy": "2023-04-26T07:05:47.714292Z",
     "iopub.status.idle": "2023-04-26T07:05:47.731546Z",
     "shell.execute_reply": "2023-04-26T07:05:47.729932Z",
     "shell.execute_reply.started": "2023-04-26T07:05:47.715777Z"
    }
   },
   "outputs": [],
   "source": [
    "from sklearn.pipeline import Pipeline\n",
    "from sklearn.ensemble import VotingClassifier"
   ]
  },
  {
   "cell_type": "code",
   "execution_count": 57,
   "metadata": {
    "execution": {
     "iopub.execute_input": "2023-04-26T07:05:47.818792Z",
     "iopub.status.busy": "2023-04-26T07:05:47.818256Z",
     "iopub.status.idle": "2023-04-26T07:05:47.824582Z",
     "shell.execute_reply": "2023-04-26T07:05:47.823543Z",
     "shell.execute_reply.started": "2023-04-26T07:05:47.818739Z"
    }
   },
   "outputs": [],
   "source": [
    "models = list()\n",
    "from sklearn.linear_model import LogisticRegression\n",
    "from sklearn.svm import SVC"
   ]
  },
  {
   "cell_type": "code",
   "execution_count": 58,
   "metadata": {
    "execution": {
     "iopub.execute_input": "2023-04-26T07:05:47.949514Z",
     "iopub.status.busy": "2023-04-26T07:05:47.948742Z",
     "iopub.status.idle": "2023-04-26T07:05:47.955099Z",
     "shell.execute_reply": "2023-04-26T07:05:47.954060Z",
     "shell.execute_reply.started": "2023-04-26T07:05:47.949472Z"
    }
   },
   "outputs": [],
   "source": [
    "lr = Pipeline([('m', LogisticRegression())])\n",
    "models.append(('Logistic Regression', lr))\n"
   ]
  },
  {
   "cell_type": "code",
   "execution_count": 59,
   "metadata": {
    "execution": {
     "iopub.execute_input": "2023-04-26T07:05:48.077055Z",
     "iopub.status.busy": "2023-04-26T07:05:48.076288Z",
     "iopub.status.idle": "2023-04-26T07:05:48.184996Z",
     "shell.execute_reply": "2023-04-26T07:05:48.183775Z",
     "shell.execute_reply.started": "2023-04-26T07:05:48.077011Z"
    }
   },
   "outputs": [
    {
     "name": "stderr",
     "output_type": "stream",
     "text": [
      "/opt/conda/lib/python3.7/site-packages/sklearn/linear_model/_logistic.py:818: ConvergenceWarning: lbfgs failed to converge (status=1):\n",
      "STOP: TOTAL NO. of ITERATIONS REACHED LIMIT.\n",
      "\n",
      "Increase the number of iterations (max_iter) or scale the data as shown in:\n",
      "    https://scikit-learn.org/stable/modules/preprocessing.html\n",
      "Please also refer to the documentation for alternative solver options:\n",
      "    https://scikit-learn.org/stable/modules/linear_model.html#logistic-regression\n",
      "  extra_warning_msg=_LOGISTIC_SOLVER_CONVERGENCE_MSG,\n"
     ]
    },
    {
     "data": {
      "text/plain": [
       "0.635"
      ]
     },
     "execution_count": 59,
     "metadata": {},
     "output_type": "execute_result"
    }
   ],
   "source": [
    "lr.fit(X_train,Y_train)\n",
    "y_pred_lr = lr.predict(X_test)\n",
    "metrics.accuracy_score(Y_test,y_pred_lr)"
   ]
  },
  {
   "cell_type": "code",
   "execution_count": 60,
   "metadata": {
    "execution": {
     "iopub.execute_input": "2023-04-26T07:08:36.198932Z",
     "iopub.status.busy": "2023-04-26T07:08:36.198049Z",
     "iopub.status.idle": "2023-04-26T07:08:36.206437Z",
     "shell.execute_reply": "2023-04-26T07:08:36.204615Z",
     "shell.execute_reply.started": "2023-04-26T07:08:36.198869Z"
    }
   },
   "outputs": [],
   "source": [
    "svc = Pipeline([('m', SVC())])\n",
    "models.append(('SVC', svc))"
   ]
  },
  {
   "cell_type": "code",
   "execution_count": 61,
   "metadata": {
    "execution": {
     "iopub.execute_input": "2023-04-26T07:08:36.323504Z",
     "iopub.status.busy": "2023-04-26T07:08:36.322535Z",
     "iopub.status.idle": "2023-04-26T07:08:36.399403Z",
     "shell.execute_reply": "2023-04-26T07:08:36.397940Z",
     "shell.execute_reply.started": "2023-04-26T07:08:36.323447Z"
    }
   },
   "outputs": [
    {
     "data": {
      "text/plain": [
       "0.9533333333333334"
      ]
     },
     "execution_count": 61,
     "metadata": {},
     "output_type": "execute_result"
    }
   ],
   "source": [
    "svc.fit(X_train,Y_train)\n",
    "y_pred_svc = svc.predict(X_test)\n",
    "metrics.accuracy_score(Y_test,y_pred_svc)"
   ]
  },
  {
   "cell_type": "code",
   "execution_count": 62,
   "metadata": {
    "execution": {
     "iopub.execute_input": "2023-04-26T07:08:36.458861Z",
     "iopub.status.busy": "2023-04-26T07:08:36.458334Z",
     "iopub.status.idle": "2023-04-26T07:08:36.465263Z",
     "shell.execute_reply": "2023-04-26T07:08:36.463705Z",
     "shell.execute_reply.started": "2023-04-26T07:08:36.458815Z"
    }
   },
   "outputs": [],
   "source": [
    "from sklearn.neighbors import KNeighborsClassifier "
   ]
  },
  {
   "cell_type": "code",
   "execution_count": 63,
   "metadata": {
    "execution": {
     "iopub.execute_input": "2023-04-26T07:08:37.091509Z",
     "iopub.status.busy": "2023-04-26T07:08:37.090983Z",
     "iopub.status.idle": "2023-04-26T07:08:37.098051Z",
     "shell.execute_reply": "2023-04-26T07:08:37.096707Z",
     "shell.execute_reply.started": "2023-04-26T07:08:37.091460Z"
    }
   },
   "outputs": [],
   "source": [
    "knnclassifier = Pipeline([('m', KNeighborsClassifier(n_neighbors=6, metric='minkowski', p=2 ))])\n",
    "models.append(('KNNClassifier', knnclassifier))\n"
   ]
  },
  {
   "cell_type": "code",
   "execution_count": 64,
   "metadata": {
    "execution": {
     "iopub.execute_input": "2023-04-26T07:08:37.387699Z",
     "iopub.status.busy": "2023-04-26T07:08:37.387186Z",
     "iopub.status.idle": "2023-04-26T07:08:37.488778Z",
     "shell.execute_reply": "2023-04-26T07:08:37.487063Z",
     "shell.execute_reply.started": "2023-04-26T07:08:37.387655Z"
    }
   },
   "outputs": [
    {
     "data": {
      "text/plain": [
       "0.9266666666666666"
      ]
     },
     "execution_count": 64,
     "metadata": {},
     "output_type": "execute_result"
    }
   ],
   "source": [
    "knnclassifier.fit(X_train,Y_train)\n",
    "y_pred_knn = knnclassifier.predict(X_test)\n",
    "metrics.accuracy_score(Y_test,y_pred_knn)"
   ]
  },
  {
   "cell_type": "code",
   "execution_count": 67,
   "metadata": {
    "execution": {
     "iopub.execute_input": "2023-04-26T07:11:58.060781Z",
     "iopub.status.busy": "2023-04-26T07:11:58.059085Z",
     "iopub.status.idle": "2023-04-26T07:11:58.066064Z",
     "shell.execute_reply": "2023-04-26T07:11:58.065119Z",
     "shell.execute_reply.started": "2023-04-26T07:11:58.060719Z"
    }
   },
   "outputs": [],
   "source": [
    "ensemble = VotingClassifier(estimators = models, voting = 'hard')"
   ]
  },
  {
   "cell_type": "code",
   "execution_count": 68,
   "metadata": {
    "execution": {
     "iopub.execute_input": "2023-04-26T07:11:58.190045Z",
     "iopub.status.busy": "2023-04-26T07:11:58.189411Z",
     "iopub.status.idle": "2023-04-26T07:11:58.199135Z",
     "shell.execute_reply": "2023-04-26T07:11:58.197758Z",
     "shell.execute_reply.started": "2023-04-26T07:11:58.189986Z"
    }
   },
   "outputs": [
    {
     "data": {
      "text/plain": [
       "[('Logistic Regression', Pipeline(steps=[('m', LogisticRegression())])),\n",
       " ('SVC', Pipeline(steps=[('m', SVC())])),\n",
       " ('KNNClassifier',\n",
       "  Pipeline(steps=[('m', KNeighborsClassifier(n_neighbors=6))]))]"
      ]
     },
     "execution_count": 68,
     "metadata": {},
     "output_type": "execute_result"
    }
   ],
   "source": [
    "models"
   ]
  },
  {
   "cell_type": "code",
   "execution_count": 69,
   "metadata": {
    "execution": {
     "iopub.execute_input": "2023-04-26T07:11:58.389784Z",
     "iopub.status.busy": "2023-04-26T07:11:58.389227Z",
     "iopub.status.idle": "2023-04-26T07:12:00.589129Z",
     "shell.execute_reply": "2023-04-26T07:12:00.587479Z",
     "shell.execute_reply.started": "2023-04-26T07:11:58.389730Z"
    }
   },
   "outputs": [
    {
     "data": {
      "text/plain": [
       "array([0.96428571, 0.925     , 0.93571429, 0.93928571, 0.93928571])"
      ]
     },
     "execution_count": 69,
     "metadata": {},
     "output_type": "execute_result"
    }
   ],
   "source": [
    "from sklearn.model_selection import RepeatedStratifiedKFold\n",
    "from sklearn.model_selection import cross_val_score\n",
    "\n",
    "cv = RepeatedStratifiedKFold(n_splits = 5, n_repeats = 1, random_state = 1)\n",
    "n_scores = cross_val_score(ensemble, X_train, Y_train, scoring ='accuracy', cv = cv, n_jobs = -1)\n",
    "n_scores"
   ]
  },
  {
   "cell_type": "code",
   "execution_count": null,
   "metadata": {
    "execution": {
     "iopub.execute_input": "2023-04-25T12:43:35.060316Z",
     "iopub.status.busy": "2023-04-25T12:43:35.059751Z",
     "iopub.status.idle": "2023-04-25T12:43:35.064910Z",
     "shell.execute_reply": "2023-04-25T12:43:35.063775Z",
     "shell.execute_reply.started": "2023-04-25T12:43:35.060273Z"
    }
   },
   "outputs": [],
   "source": [
    "# For each split of training data into training and validation the accuracy is computed by taking the highest accuracy of one of the 3 models in ensemble pipeline"
   ]
  },
  {
   "cell_type": "code",
   "execution_count": 70,
   "metadata": {
    "execution": {
     "iopub.execute_input": "2023-04-26T07:13:25.798001Z",
     "iopub.status.busy": "2023-04-26T07:13:25.797417Z",
     "iopub.status.idle": "2023-04-26T07:13:26.061204Z",
     "shell.execute_reply": "2023-04-26T07:13:26.059321Z",
     "shell.execute_reply.started": "2023-04-26T07:13:25.797947Z"
    }
   },
   "outputs": [
    {
     "name": "stderr",
     "output_type": "stream",
     "text": [
      "/opt/conda/lib/python3.7/site-packages/sklearn/linear_model/_logistic.py:818: ConvergenceWarning: lbfgs failed to converge (status=1):\n",
      "STOP: TOTAL NO. of ITERATIONS REACHED LIMIT.\n",
      "\n",
      "Increase the number of iterations (max_iter) or scale the data as shown in:\n",
      "    https://scikit-learn.org/stable/modules/preprocessing.html\n",
      "Please also refer to the documentation for alternative solver options:\n",
      "    https://scikit-learn.org/stable/modules/linear_model.html#logistic-regression\n",
      "  extra_warning_msg=_LOGISTIC_SOLVER_CONVERGENCE_MSG,\n"
     ]
    }
   ],
   "source": [
    "ensemble.fit(X_train,Y_train)\n",
    "y_pred_ensemble = ensemble.predict(X_test)"
   ]
  },
  {
   "cell_type": "code",
   "execution_count": 71,
   "metadata": {
    "execution": {
     "iopub.execute_input": "2023-04-26T07:13:26.066316Z",
     "iopub.status.busy": "2023-04-26T07:13:26.065137Z",
     "iopub.status.idle": "2023-04-26T07:13:26.079647Z",
     "shell.execute_reply": "2023-04-26T07:13:26.077800Z",
     "shell.execute_reply.started": "2023-04-26T07:13:26.066221Z"
    }
   },
   "outputs": [
    {
     "data": {
      "text/plain": [
       "0.9333333333333333"
      ]
     },
     "execution_count": 71,
     "metadata": {},
     "output_type": "execute_result"
    }
   ],
   "source": [
    "metrics.accuracy_score(Y_test,y_pred_ensemble)"
   ]
  },
  {
   "cell_type": "code",
   "execution_count": 73,
   "metadata": {
    "execution": {
     "iopub.execute_input": "2023-04-26T07:13:40.701175Z",
     "iopub.status.busy": "2023-04-26T07:13:40.700676Z",
     "iopub.status.idle": "2023-04-26T07:13:40.714588Z",
     "shell.execute_reply": "2023-04-26T07:13:40.713022Z",
     "shell.execute_reply.started": "2023-04-26T07:13:40.701128Z"
    }
   },
   "outputs": [],
   "source": [
    "mobile_test = pd.read_csv('/kaggle/input/mobile-price-classification/test.csv')"
   ]
  },
  {
   "cell_type": "code",
   "execution_count": 74,
   "metadata": {
    "execution": {
     "iopub.execute_input": "2023-04-26T07:13:40.891494Z",
     "iopub.status.busy": "2023-04-26T07:13:40.890971Z",
     "iopub.status.idle": "2023-04-26T07:13:40.912692Z",
     "shell.execute_reply": "2023-04-26T07:13:40.911298Z",
     "shell.execute_reply.started": "2023-04-26T07:13:40.891446Z"
    }
   },
   "outputs": [
    {
     "name": "stdout",
     "output_type": "stream",
     "text": [
      "<class 'pandas.core.frame.DataFrame'>\n",
      "RangeIndex: 1000 entries, 0 to 999\n",
      "Data columns (total 20 columns):\n",
      " #   Column         Non-Null Count  Dtype  \n",
      "---  ------         --------------  -----  \n",
      " 0   battery_power  1000 non-null   int64  \n",
      " 1   blue           1000 non-null   int64  \n",
      " 2   clock_speed    1000 non-null   float64\n",
      " 3   dual_sim       1000 non-null   int64  \n",
      " 4   fc             1000 non-null   int64  \n",
      " 5   four_g         1000 non-null   int64  \n",
      " 6   int_memory     1000 non-null   int64  \n",
      " 7   m_dep          1000 non-null   float64\n",
      " 8   mobile_wt      1000 non-null   int64  \n",
      " 9   n_cores        1000 non-null   int64  \n",
      " 10  pc             1000 non-null   int64  \n",
      " 11  px_height      1000 non-null   int64  \n",
      " 12  px_width       1000 non-null   int64  \n",
      " 13  ram            1000 non-null   int64  \n",
      " 14  sc_h           1000 non-null   int64  \n",
      " 15  sc_w           1000 non-null   int64  \n",
      " 16  talk_time      1000 non-null   int64  \n",
      " 17  three_g        1000 non-null   int64  \n",
      " 18  touch_screen   1000 non-null   int64  \n",
      " 19  wifi           1000 non-null   int64  \n",
      "dtypes: float64(2), int64(18)\n",
      "memory usage: 156.4 KB\n",
      "None\n"
     ]
    }
   ],
   "source": [
    "mobile_test.drop(['id'], axis = 1, inplace = True)\n",
    "print(mobile_test.info())"
   ]
  },
  {
   "cell_type": "code",
   "execution_count": 75,
   "metadata": {
    "execution": {
     "iopub.execute_input": "2023-04-26T07:13:41.094771Z",
     "iopub.status.busy": "2023-04-26T07:13:41.093537Z",
     "iopub.status.idle": "2023-04-26T07:13:41.284732Z",
     "shell.execute_reply": "2023-04-26T07:13:41.283604Z",
     "shell.execute_reply.started": "2023-04-26T07:13:41.094710Z"
    }
   },
   "outputs": [],
   "source": [
    "price_range = ensemble.predict(mobile_test)"
   ]
  },
  {
   "cell_type": "code",
   "execution_count": 76,
   "metadata": {
    "execution": {
     "iopub.execute_input": "2023-04-26T07:13:43.599467Z",
     "iopub.status.busy": "2023-04-26T07:13:43.598957Z",
     "iopub.status.idle": "2023-04-26T07:13:43.609305Z",
     "shell.execute_reply": "2023-04-26T07:13:43.607868Z",
     "shell.execute_reply.started": "2023-04-26T07:13:43.599424Z"
    }
   },
   "outputs": [
    {
     "name": "stdout",
     "output_type": "stream",
     "text": [
      "[3 3 2 3 1 3 3 1 3 0 3 3 0 0 2 0 2 1 3 2 1 3 1 1 3 0 2 0 3 0 2 0 3 0 0 1 3\n",
      " 1 2 1 1 2 0 0 0 1 0 3 1 2 1 0 3 0 3 1 3 1 1 3 3 3 0 1 1 1 1 3 1 2 1 2 2 3\n",
      " 3 0 2 0 2 3 0 3 3 0 3 0 3 1 3 0 1 2 2 0 2 2 0 2 1 2 1 0 0 3 0 2 0 1 2 3 3\n",
      " 3 1 3 3 3 3 1 3 0 0 3 2 1 2 0 3 2 3 1 0 2 1 1 3 1 1 0 3 2 1 2 1 2 2 3 3 3\n",
      " 2 3 2 3 1 0 3 2 3 3 3 3 2 2 3 3 3 3 1 0 3 0 0 0 2 1 0 1 0 0 1 2 1 0 0 1 1\n",
      " 2 2 1 0 0 0 1 0 3 1 0 2 2 3 3 1 2 2 2 3 2 2 1 0 0 1 2 0 2 3 3 0 2 0 3 2 3\n",
      " 3 1 0 1 0 3 0 1 0 2 2 1 2 0 3 0 3 1 2 0 0 2 1 3 2 3 1 1 3 0 0 2 3 3 1 3 1\n",
      " 1 3 2 1 2 3 3 3 1 0 0 2 3 2 1 3 2 0 3 0 0 2 0 0 3 2 3 3 2 1 3 3 2 3 1 2 1\n",
      " 2 0 2 3 1 0 0 3 0 3 0 1 2 0 2 3 1 3 2 2 0 2 0 0 0 1 3 2 0 0 0 3 2 0 2 3 1\n",
      " 2 2 2 3 1 3 3 2 2 2 3 3 0 3 0 3 1 3 1 3 3 0 1 0 3 1 3 2 3 0 0 0 0 2 0 0 2\n",
      " 2 1 2 2 2 0 1 0 0 3 2 0 3 1 2 2 1 2 3 1 1 2 2 1 2 0 1 1 0 3 2 1 0 1 0 0 1\n",
      " 1 0 1 0 2 2 3 2 3 0 3 0 3 0 1 1 1 2 0 3 2 3 3 1 3 1 3 1 3 2 0 1 2 1 1 0 0\n",
      " 0 1 2 1 0 3 2 0 2 3 0 0 3 1 1 0 3 2 3 0 3 0 2 3 3 3 0 2 0 2 2 0 1 1 0 0 1\n",
      " 1 1 3 3 3 2 3 1 1 2 3 3 3 2 0 2 1 2 2 1 0 2 2 0 0 0 3 1 0 2 2 2 0 3 0 2 2\n",
      " 1 3 0 2 3 0 1 1 3 3 1 1 1 3 2 0 2 1 2 0 3 3 1 2 2 2 3 0 1 2 3 1 3 2 3 1 1\n",
      " 0 0 3 1 0 3 2 3 2 0 3 3 3 2 3 3 1 2 0 2 3 3 1 0 1 1 2 2 2 0 0 2 2 3 2 0 2\n",
      " 1 3 3 0 1 3 0 2 1 1 0 0 2 1 0 1 1 2 2 0 2 2 1 0 3 0 0 3 2 0 0 1 0 0 3 0 3\n",
      " 1 3 2 1 3 3 0 1 0 3 2 2 2 0 3 0 2 0 2 0 0 1 1 1 2 1 3 1 3 2 2 1 3 2 0 1 2\n",
      " 0 3 3 0 2 1 1 2 0 3 2 0 3 2 3 0 0 3 0 2 2 3 2 2 2 2 1 2 3 0 1 0 1 2 1 0 0\n",
      " 1 0 0 3 0 1 2 0 0 1 1 3 0 3 2 3 0 0 1 2 2 1 0 1 1 0 1 1 0 0 3 3 0 3 1 2 3\n",
      " 0 1 0 2 2 0 3 1 0 3 1 1 0 2 3 3 2 3 0 3 2 0 0 0 2 3 2 0 2 1 2 0 0 3 2 0 3\n",
      " 1 2 1 1 1 3 1 1 1 2 1 0 1 2 0 2 0 0 0 0 2 3 3 3 0 1 2 1 1 0 0 2 1 0 2 0 3\n",
      " 2 2 1 2 0 2 1 3 0 0 3 1 3 0 0 2 3 2 1 2 2 1 0 0 2 3 0 3 0 0 0 2 2 1 2 0 3\n",
      " 2 1 2 3 3 0 1 1 2 1 2 2 0 1 3 1 1 3 1 2 3 2 1 1 1 3 3 0 2 3 0 2 3 2 2 2 3\n",
      " 2 0 1 2 0 2 1 1 2 2 2 1 2 1 0 1 3 1 0 1 2 3 1 0 0 2 2 2 3 0 3 3 2 1 3 0 1\n",
      " 3 1 2 1 1 3 2 0 3 0 2 3 0 3 2 3 3 1 0 2 3 1 0 2 1 2 1 2 0 2 2 0 2 3 2 3 0\n",
      " 2 1 1 2 2 3 3 0 2 1 2 1 3 0 1 3 0 1 0 0 3 2 2 0 0 0 0 3 2 3 3 0 0 2 1 0 2\n",
      " 2]\n"
     ]
    }
   ],
   "source": [
    "# The final prediction is \n",
    "print(price_range)"
   ]
  },
  {
   "cell_type": "code",
   "execution_count": 77,
   "metadata": {
    "execution": {
     "iopub.execute_input": "2023-04-26T07:13:43.918796Z",
     "iopub.status.busy": "2023-04-26T07:13:43.917578Z",
     "iopub.status.idle": "2023-04-26T07:13:43.939734Z",
     "shell.execute_reply": "2023-04-26T07:13:43.938508Z",
     "shell.execute_reply.started": "2023-04-26T07:13:43.918733Z"
    }
   },
   "outputs": [],
   "source": [
    "breastcancer = pd.read_csv('/kaggle/input/breast-cancer-wisconsin-data/data.csv')"
   ]
  },
  {
   "cell_type": "code",
   "execution_count": 78,
   "metadata": {
    "execution": {
     "iopub.execute_input": "2023-04-26T07:13:46.451413Z",
     "iopub.status.busy": "2023-04-26T07:13:46.450930Z",
     "iopub.status.idle": "2023-04-26T07:13:46.483347Z",
     "shell.execute_reply": "2023-04-26T07:13:46.481719Z",
     "shell.execute_reply.started": "2023-04-26T07:13:46.451374Z"
    }
   },
   "outputs": [
    {
     "data": {
      "text/html": [
       "<div>\n",
       "<style scoped>\n",
       "    .dataframe tbody tr th:only-of-type {\n",
       "        vertical-align: middle;\n",
       "    }\n",
       "\n",
       "    .dataframe tbody tr th {\n",
       "        vertical-align: top;\n",
       "    }\n",
       "\n",
       "    .dataframe thead th {\n",
       "        text-align: right;\n",
       "    }\n",
       "</style>\n",
       "<table border=\"1\" class=\"dataframe\">\n",
       "  <thead>\n",
       "    <tr style=\"text-align: right;\">\n",
       "      <th></th>\n",
       "      <th>id</th>\n",
       "      <th>diagnosis</th>\n",
       "      <th>radius_mean</th>\n",
       "      <th>texture_mean</th>\n",
       "      <th>perimeter_mean</th>\n",
       "      <th>area_mean</th>\n",
       "      <th>smoothness_mean</th>\n",
       "      <th>compactness_mean</th>\n",
       "      <th>concavity_mean</th>\n",
       "      <th>concave points_mean</th>\n",
       "      <th>...</th>\n",
       "      <th>texture_worst</th>\n",
       "      <th>perimeter_worst</th>\n",
       "      <th>area_worst</th>\n",
       "      <th>smoothness_worst</th>\n",
       "      <th>compactness_worst</th>\n",
       "      <th>concavity_worst</th>\n",
       "      <th>concave points_worst</th>\n",
       "      <th>symmetry_worst</th>\n",
       "      <th>fractal_dimension_worst</th>\n",
       "      <th>Unnamed: 32</th>\n",
       "    </tr>\n",
       "  </thead>\n",
       "  <tbody>\n",
       "    <tr>\n",
       "      <th>0</th>\n",
       "      <td>842302</td>\n",
       "      <td>M</td>\n",
       "      <td>17.99</td>\n",
       "      <td>10.38</td>\n",
       "      <td>122.80</td>\n",
       "      <td>1001.0</td>\n",
       "      <td>0.11840</td>\n",
       "      <td>0.27760</td>\n",
       "      <td>0.3001</td>\n",
       "      <td>0.14710</td>\n",
       "      <td>...</td>\n",
       "      <td>17.33</td>\n",
       "      <td>184.60</td>\n",
       "      <td>2019.0</td>\n",
       "      <td>0.1622</td>\n",
       "      <td>0.6656</td>\n",
       "      <td>0.7119</td>\n",
       "      <td>0.2654</td>\n",
       "      <td>0.4601</td>\n",
       "      <td>0.11890</td>\n",
       "      <td>NaN</td>\n",
       "    </tr>\n",
       "    <tr>\n",
       "      <th>1</th>\n",
       "      <td>842517</td>\n",
       "      <td>M</td>\n",
       "      <td>20.57</td>\n",
       "      <td>17.77</td>\n",
       "      <td>132.90</td>\n",
       "      <td>1326.0</td>\n",
       "      <td>0.08474</td>\n",
       "      <td>0.07864</td>\n",
       "      <td>0.0869</td>\n",
       "      <td>0.07017</td>\n",
       "      <td>...</td>\n",
       "      <td>23.41</td>\n",
       "      <td>158.80</td>\n",
       "      <td>1956.0</td>\n",
       "      <td>0.1238</td>\n",
       "      <td>0.1866</td>\n",
       "      <td>0.2416</td>\n",
       "      <td>0.1860</td>\n",
       "      <td>0.2750</td>\n",
       "      <td>0.08902</td>\n",
       "      <td>NaN</td>\n",
       "    </tr>\n",
       "    <tr>\n",
       "      <th>2</th>\n",
       "      <td>84300903</td>\n",
       "      <td>M</td>\n",
       "      <td>19.69</td>\n",
       "      <td>21.25</td>\n",
       "      <td>130.00</td>\n",
       "      <td>1203.0</td>\n",
       "      <td>0.10960</td>\n",
       "      <td>0.15990</td>\n",
       "      <td>0.1974</td>\n",
       "      <td>0.12790</td>\n",
       "      <td>...</td>\n",
       "      <td>25.53</td>\n",
       "      <td>152.50</td>\n",
       "      <td>1709.0</td>\n",
       "      <td>0.1444</td>\n",
       "      <td>0.4245</td>\n",
       "      <td>0.4504</td>\n",
       "      <td>0.2430</td>\n",
       "      <td>0.3613</td>\n",
       "      <td>0.08758</td>\n",
       "      <td>NaN</td>\n",
       "    </tr>\n",
       "    <tr>\n",
       "      <th>3</th>\n",
       "      <td>84348301</td>\n",
       "      <td>M</td>\n",
       "      <td>11.42</td>\n",
       "      <td>20.38</td>\n",
       "      <td>77.58</td>\n",
       "      <td>386.1</td>\n",
       "      <td>0.14250</td>\n",
       "      <td>0.28390</td>\n",
       "      <td>0.2414</td>\n",
       "      <td>0.10520</td>\n",
       "      <td>...</td>\n",
       "      <td>26.50</td>\n",
       "      <td>98.87</td>\n",
       "      <td>567.7</td>\n",
       "      <td>0.2098</td>\n",
       "      <td>0.8663</td>\n",
       "      <td>0.6869</td>\n",
       "      <td>0.2575</td>\n",
       "      <td>0.6638</td>\n",
       "      <td>0.17300</td>\n",
       "      <td>NaN</td>\n",
       "    </tr>\n",
       "    <tr>\n",
       "      <th>4</th>\n",
       "      <td>84358402</td>\n",
       "      <td>M</td>\n",
       "      <td>20.29</td>\n",
       "      <td>14.34</td>\n",
       "      <td>135.10</td>\n",
       "      <td>1297.0</td>\n",
       "      <td>0.10030</td>\n",
       "      <td>0.13280</td>\n",
       "      <td>0.1980</td>\n",
       "      <td>0.10430</td>\n",
       "      <td>...</td>\n",
       "      <td>16.67</td>\n",
       "      <td>152.20</td>\n",
       "      <td>1575.0</td>\n",
       "      <td>0.1374</td>\n",
       "      <td>0.2050</td>\n",
       "      <td>0.4000</td>\n",
       "      <td>0.1625</td>\n",
       "      <td>0.2364</td>\n",
       "      <td>0.07678</td>\n",
       "      <td>NaN</td>\n",
       "    </tr>\n",
       "  </tbody>\n",
       "</table>\n",
       "<p>5 rows × 33 columns</p>\n",
       "</div>"
      ],
      "text/plain": [
       "         id diagnosis  radius_mean  texture_mean  perimeter_mean  area_mean  \\\n",
       "0    842302         M        17.99         10.38          122.80     1001.0   \n",
       "1    842517         M        20.57         17.77          132.90     1326.0   \n",
       "2  84300903         M        19.69         21.25          130.00     1203.0   \n",
       "3  84348301         M        11.42         20.38           77.58      386.1   \n",
       "4  84358402         M        20.29         14.34          135.10     1297.0   \n",
       "\n",
       "   smoothness_mean  compactness_mean  concavity_mean  concave points_mean  \\\n",
       "0          0.11840           0.27760          0.3001              0.14710   \n",
       "1          0.08474           0.07864          0.0869              0.07017   \n",
       "2          0.10960           0.15990          0.1974              0.12790   \n",
       "3          0.14250           0.28390          0.2414              0.10520   \n",
       "4          0.10030           0.13280          0.1980              0.10430   \n",
       "\n",
       "   ...  texture_worst  perimeter_worst  area_worst  smoothness_worst  \\\n",
       "0  ...          17.33           184.60      2019.0            0.1622   \n",
       "1  ...          23.41           158.80      1956.0            0.1238   \n",
       "2  ...          25.53           152.50      1709.0            0.1444   \n",
       "3  ...          26.50            98.87       567.7            0.2098   \n",
       "4  ...          16.67           152.20      1575.0            0.1374   \n",
       "\n",
       "   compactness_worst  concavity_worst  concave points_worst  symmetry_worst  \\\n",
       "0             0.6656           0.7119                0.2654          0.4601   \n",
       "1             0.1866           0.2416                0.1860          0.2750   \n",
       "2             0.4245           0.4504                0.2430          0.3613   \n",
       "3             0.8663           0.6869                0.2575          0.6638   \n",
       "4             0.2050           0.4000                0.1625          0.2364   \n",
       "\n",
       "   fractal_dimension_worst  Unnamed: 32  \n",
       "0                  0.11890          NaN  \n",
       "1                  0.08902          NaN  \n",
       "2                  0.08758          NaN  \n",
       "3                  0.17300          NaN  \n",
       "4                  0.07678          NaN  \n",
       "\n",
       "[5 rows x 33 columns]"
      ]
     },
     "execution_count": 78,
     "metadata": {},
     "output_type": "execute_result"
    }
   ],
   "source": [
    "breastcancer.head()"
   ]
  },
  {
   "cell_type": "code",
   "execution_count": 79,
   "metadata": {
    "execution": {
     "iopub.execute_input": "2023-04-26T07:13:46.628230Z",
     "iopub.status.busy": "2023-04-26T07:13:46.627717Z",
     "iopub.status.idle": "2023-04-26T07:13:46.637312Z",
     "shell.execute_reply": "2023-04-26T07:13:46.635814Z",
     "shell.execute_reply.started": "2023-04-26T07:13:46.628188Z"
    }
   },
   "outputs": [],
   "source": [
    "from sklearn.preprocessing import LabelEncoder\n",
    "le = LabelEncoder()\n",
    "le.fit(breastcancer['diagnosis'])\n",
    "breastcancer['diagnosis_new'] = le.transform(breastcancer['diagnosis'])"
   ]
  },
  {
   "cell_type": "code",
   "execution_count": 80,
   "metadata": {
    "execution": {
     "iopub.execute_input": "2023-04-26T07:13:47.059806Z",
     "iopub.status.busy": "2023-04-26T07:13:47.058833Z",
     "iopub.status.idle": "2023-04-26T07:13:47.067222Z",
     "shell.execute_reply": "2023-04-26T07:13:47.066073Z",
     "shell.execute_reply.started": "2023-04-26T07:13:47.059751Z"
    }
   },
   "outputs": [],
   "source": [
    "breastcancer = breastcancer.drop(['diagnosis','Unnamed: 32','id'],axis = 1)"
   ]
  },
  {
   "cell_type": "code",
   "execution_count": 81,
   "metadata": {
    "execution": {
     "iopub.execute_input": "2023-04-26T07:13:48.215293Z",
     "iopub.status.busy": "2023-04-26T07:13:48.214751Z",
     "iopub.status.idle": "2023-04-26T07:13:48.223577Z",
     "shell.execute_reply": "2023-04-26T07:13:48.222121Z",
     "shell.execute_reply.started": "2023-04-26T07:13:48.215244Z"
    }
   },
   "outputs": [
    {
     "data": {
      "text/plain": [
       "(569, 31)"
      ]
     },
     "execution_count": 81,
     "metadata": {},
     "output_type": "execute_result"
    }
   ],
   "source": [
    "breastcancer.shape"
   ]
  },
  {
   "cell_type": "code",
   "execution_count": 82,
   "metadata": {
    "execution": {
     "iopub.execute_input": "2023-04-26T07:13:48.350395Z",
     "iopub.status.busy": "2023-04-26T07:13:48.349812Z",
     "iopub.status.idle": "2023-04-26T07:13:48.358219Z",
     "shell.execute_reply": "2023-04-26T07:13:48.356705Z",
     "shell.execute_reply.started": "2023-04-26T07:13:48.350348Z"
    }
   },
   "outputs": [],
   "source": [
    "X = breastcancer.iloc[:,:30]\n",
    "Y = breastcancer.iloc[:,30]"
   ]
  },
  {
   "cell_type": "code",
   "execution_count": 97,
   "metadata": {
    "execution": {
     "iopub.execute_input": "2023-04-26T07:15:43.561198Z",
     "iopub.status.busy": "2023-04-26T07:15:43.560517Z",
     "iopub.status.idle": "2023-04-26T07:15:43.571828Z",
     "shell.execute_reply": "2023-04-26T07:15:43.570225Z",
     "shell.execute_reply.started": "2023-04-26T07:15:43.561135Z"
    }
   },
   "outputs": [],
   "source": [
    "X_train_, X_test_, Y_train_, Y_test_ = train_test_split(X, Y, test_size = 0.2, random_state = 42)"
   ]
  },
  {
   "cell_type": "code",
   "execution_count": 102,
   "metadata": {
    "execution": {
     "iopub.execute_input": "2023-04-26T07:16:22.219941Z",
     "iopub.status.busy": "2023-04-26T07:16:22.219450Z",
     "iopub.status.idle": "2023-04-26T07:16:22.253168Z",
     "shell.execute_reply": "2023-04-26T07:16:22.251411Z",
     "shell.execute_reply.started": "2023-04-26T07:16:22.219904Z"
    }
   },
   "outputs": [
    {
     "name": "stdout",
     "output_type": "stream",
     "text": [
      "(114,)\n",
      "(114,)\n"
     ]
    }
   ],
   "source": [
    "model = KNeighborsClassifier()\n",
    "model.fit(X_train_,Y_train_)\n",
    "print(Y_test_.shape)\n",
    "Y_pred_knn = model.predict(X_test_)\n",
    "print(Y_pred_knn.shape)"
   ]
  },
  {
   "cell_type": "code",
   "execution_count": 103,
   "metadata": {
    "execution": {
     "iopub.execute_input": "2023-04-26T07:16:28.704314Z",
     "iopub.status.busy": "2023-04-26T07:16:28.703808Z",
     "iopub.status.idle": "2023-04-26T07:16:28.714844Z",
     "shell.execute_reply": "2023-04-26T07:16:28.713408Z",
     "shell.execute_reply.started": "2023-04-26T07:16:28.704268Z"
    }
   },
   "outputs": [
    {
     "data": {
      "text/plain": [
       "0.956140350877193"
      ]
     },
     "execution_count": 103,
     "metadata": {},
     "output_type": "execute_result"
    }
   ],
   "source": [
    "metrics.accuracy_score(Y_test_,Y_pred_knn)"
   ]
  },
  {
   "cell_type": "code",
   "execution_count": null,
   "metadata": {},
   "outputs": [],
   "source": []
  }
 ],
 "metadata": {
  "kernelspec": {
   "display_name": "Python 3 (ipykernel)",
   "language": "python",
   "name": "python3"
  },
  "language_info": {
   "codemirror_mode": {
    "name": "ipython",
    "version": 3
   },
   "file_extension": ".py",
   "mimetype": "text/x-python",
   "name": "python",
   "nbconvert_exporter": "python",
   "pygments_lexer": "ipython3",
   "version": "3.9.13"
  }
 },
 "nbformat": 4,
 "nbformat_minor": 4
}

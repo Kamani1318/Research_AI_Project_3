{
 "cells": [
  {
   "cell_type": "code",
   "execution_count": 504,
   "id": "a5ef8a1e",
   "metadata": {},
   "outputs": [],
   "source": [
    "import pandas as pd\n",
    "import numpy as np"
   ]
  },
  {
   "cell_type": "code",
   "execution_count": 505,
   "id": "fef7cc56",
   "metadata": {},
   "outputs": [],
   "source": [
    "df = pd.read_csv('Country-data.csv')"
   ]
  },
  {
   "cell_type": "code",
   "execution_count": 506,
   "id": "fb591ef4",
   "metadata": {},
   "outputs": [
    {
     "data": {
      "text/html": [
       "<div>\n",
       "<style scoped>\n",
       "    .dataframe tbody tr th:only-of-type {\n",
       "        vertical-align: middle;\n",
       "    }\n",
       "\n",
       "    .dataframe tbody tr th {\n",
       "        vertical-align: top;\n",
       "    }\n",
       "\n",
       "    .dataframe thead th {\n",
       "        text-align: right;\n",
       "    }\n",
       "</style>\n",
       "<table border=\"1\" class=\"dataframe\">\n",
       "  <thead>\n",
       "    <tr style=\"text-align: right;\">\n",
       "      <th></th>\n",
       "      <th>country</th>\n",
       "      <th>child_mort</th>\n",
       "      <th>exports</th>\n",
       "      <th>health</th>\n",
       "      <th>imports</th>\n",
       "      <th>income</th>\n",
       "      <th>inflation</th>\n",
       "      <th>life_expec</th>\n",
       "      <th>total_fer</th>\n",
       "      <th>gdpp</th>\n",
       "    </tr>\n",
       "  </thead>\n",
       "  <tbody>\n",
       "    <tr>\n",
       "      <th>0</th>\n",
       "      <td>Afghanistan</td>\n",
       "      <td>90.2</td>\n",
       "      <td>10.0</td>\n",
       "      <td>7.58</td>\n",
       "      <td>44.9</td>\n",
       "      <td>1610</td>\n",
       "      <td>9.44</td>\n",
       "      <td>56.2</td>\n",
       "      <td>5.82</td>\n",
       "      <td>553</td>\n",
       "    </tr>\n",
       "    <tr>\n",
       "      <th>1</th>\n",
       "      <td>Albania</td>\n",
       "      <td>16.6</td>\n",
       "      <td>28.0</td>\n",
       "      <td>6.55</td>\n",
       "      <td>48.6</td>\n",
       "      <td>9930</td>\n",
       "      <td>4.49</td>\n",
       "      <td>76.3</td>\n",
       "      <td>1.65</td>\n",
       "      <td>4090</td>\n",
       "    </tr>\n",
       "    <tr>\n",
       "      <th>2</th>\n",
       "      <td>Algeria</td>\n",
       "      <td>27.3</td>\n",
       "      <td>38.4</td>\n",
       "      <td>4.17</td>\n",
       "      <td>31.4</td>\n",
       "      <td>12900</td>\n",
       "      <td>16.10</td>\n",
       "      <td>76.5</td>\n",
       "      <td>2.89</td>\n",
       "      <td>4460</td>\n",
       "    </tr>\n",
       "    <tr>\n",
       "      <th>3</th>\n",
       "      <td>Angola</td>\n",
       "      <td>119.0</td>\n",
       "      <td>62.3</td>\n",
       "      <td>2.85</td>\n",
       "      <td>42.9</td>\n",
       "      <td>5900</td>\n",
       "      <td>22.40</td>\n",
       "      <td>60.1</td>\n",
       "      <td>6.16</td>\n",
       "      <td>3530</td>\n",
       "    </tr>\n",
       "    <tr>\n",
       "      <th>4</th>\n",
       "      <td>Antigua and Barbuda</td>\n",
       "      <td>10.3</td>\n",
       "      <td>45.5</td>\n",
       "      <td>6.03</td>\n",
       "      <td>58.9</td>\n",
       "      <td>19100</td>\n",
       "      <td>1.44</td>\n",
       "      <td>76.8</td>\n",
       "      <td>2.13</td>\n",
       "      <td>12200</td>\n",
       "    </tr>\n",
       "  </tbody>\n",
       "</table>\n",
       "</div>"
      ],
      "text/plain": [
       "               country  child_mort  exports  health  imports  income  \\\n",
       "0          Afghanistan        90.2     10.0    7.58     44.9    1610   \n",
       "1              Albania        16.6     28.0    6.55     48.6    9930   \n",
       "2              Algeria        27.3     38.4    4.17     31.4   12900   \n",
       "3               Angola       119.0     62.3    2.85     42.9    5900   \n",
       "4  Antigua and Barbuda        10.3     45.5    6.03     58.9   19100   \n",
       "\n",
       "   inflation  life_expec  total_fer   gdpp  \n",
       "0       9.44        56.2       5.82    553  \n",
       "1       4.49        76.3       1.65   4090  \n",
       "2      16.10        76.5       2.89   4460  \n",
       "3      22.40        60.1       6.16   3530  \n",
       "4       1.44        76.8       2.13  12200  "
      ]
     },
     "execution_count": 506,
     "metadata": {},
     "output_type": "execute_result"
    }
   ],
   "source": [
    "df.head()"
   ]
  },
  {
   "cell_type": "markdown",
   "id": "aab12038",
   "metadata": {},
   "source": [
    "Checking if there are any null values in data"
   ]
  },
  {
   "cell_type": "code",
   "execution_count": 507,
   "id": "f0a20052",
   "metadata": {},
   "outputs": [
    {
     "data": {
      "text/plain": [
       "country       0\n",
       "child_mort    0\n",
       "exports       0\n",
       "health        0\n",
       "imports       0\n",
       "income        0\n",
       "inflation     0\n",
       "life_expec    0\n",
       "total_fer     0\n",
       "gdpp          0\n",
       "dtype: int64"
      ]
     },
     "execution_count": 507,
     "metadata": {},
     "output_type": "execute_result"
    }
   ],
   "source": [
    "df.isnull().sum()"
   ]
  },
  {
   "cell_type": "markdown",
   "id": "e99e0ca6",
   "metadata": {},
   "source": [
    "No nulll values in data"
   ]
  },
  {
   "cell_type": "code",
   "execution_count": 508,
   "id": "680d32a6",
   "metadata": {},
   "outputs": [
    {
     "data": {
      "text/plain": [
       "country        object\n",
       "child_mort    float64\n",
       "exports       float64\n",
       "health        float64\n",
       "imports       float64\n",
       "income          int64\n",
       "inflation     float64\n",
       "life_expec    float64\n",
       "total_fer     float64\n",
       "gdpp            int64\n",
       "dtype: object"
      ]
     },
     "execution_count": 508,
     "metadata": {},
     "output_type": "execute_result"
    }
   ],
   "source": [
    "df.dtypes"
   ]
  },
  {
   "cell_type": "markdown",
   "id": "83b39f4a",
   "metadata": {},
   "source": [
    "Removing unnecessary columns so that the dataframe has only values"
   ]
  },
  {
   "cell_type": "code",
   "execution_count": 509,
   "id": "68b56198",
   "metadata": {},
   "outputs": [],
   "source": [
    "df.drop('country',axis = 1,inplace = True)"
   ]
  },
  {
   "cell_type": "code",
   "execution_count": 254,
   "id": "16b7e944",
   "metadata": {},
   "outputs": [
    {
     "data": {
      "text/html": [
       "<div>\n",
       "<style scoped>\n",
       "    .dataframe tbody tr th:only-of-type {\n",
       "        vertical-align: middle;\n",
       "    }\n",
       "\n",
       "    .dataframe tbody tr th {\n",
       "        vertical-align: top;\n",
       "    }\n",
       "\n",
       "    .dataframe thead th {\n",
       "        text-align: right;\n",
       "    }\n",
       "</style>\n",
       "<table border=\"1\" class=\"dataframe\">\n",
       "  <thead>\n",
       "    <tr style=\"text-align: right;\">\n",
       "      <th></th>\n",
       "      <th>child_mort</th>\n",
       "      <th>exports</th>\n",
       "      <th>health</th>\n",
       "      <th>imports</th>\n",
       "      <th>income</th>\n",
       "      <th>inflation</th>\n",
       "      <th>life_expec</th>\n",
       "      <th>total_fer</th>\n",
       "      <th>gdpp</th>\n",
       "    </tr>\n",
       "  </thead>\n",
       "  <tbody>\n",
       "    <tr>\n",
       "      <th>0</th>\n",
       "      <td>90.2</td>\n",
       "      <td>10.0</td>\n",
       "      <td>7.58</td>\n",
       "      <td>44.9</td>\n",
       "      <td>1610</td>\n",
       "      <td>9.44</td>\n",
       "      <td>56.2</td>\n",
       "      <td>5.82</td>\n",
       "      <td>553</td>\n",
       "    </tr>\n",
       "    <tr>\n",
       "      <th>1</th>\n",
       "      <td>16.6</td>\n",
       "      <td>28.0</td>\n",
       "      <td>6.55</td>\n",
       "      <td>48.6</td>\n",
       "      <td>9930</td>\n",
       "      <td>4.49</td>\n",
       "      <td>76.3</td>\n",
       "      <td>1.65</td>\n",
       "      <td>4090</td>\n",
       "    </tr>\n",
       "    <tr>\n",
       "      <th>2</th>\n",
       "      <td>27.3</td>\n",
       "      <td>38.4</td>\n",
       "      <td>4.17</td>\n",
       "      <td>31.4</td>\n",
       "      <td>12900</td>\n",
       "      <td>16.10</td>\n",
       "      <td>76.5</td>\n",
       "      <td>2.89</td>\n",
       "      <td>4460</td>\n",
       "    </tr>\n",
       "    <tr>\n",
       "      <th>3</th>\n",
       "      <td>119.0</td>\n",
       "      <td>62.3</td>\n",
       "      <td>2.85</td>\n",
       "      <td>42.9</td>\n",
       "      <td>5900</td>\n",
       "      <td>22.40</td>\n",
       "      <td>60.1</td>\n",
       "      <td>6.16</td>\n",
       "      <td>3530</td>\n",
       "    </tr>\n",
       "    <tr>\n",
       "      <th>4</th>\n",
       "      <td>10.3</td>\n",
       "      <td>45.5</td>\n",
       "      <td>6.03</td>\n",
       "      <td>58.9</td>\n",
       "      <td>19100</td>\n",
       "      <td>1.44</td>\n",
       "      <td>76.8</td>\n",
       "      <td>2.13</td>\n",
       "      <td>12200</td>\n",
       "    </tr>\n",
       "  </tbody>\n",
       "</table>\n",
       "</div>"
      ],
      "text/plain": [
       "   child_mort  exports  health  imports  income  inflation  life_expec  \\\n",
       "0        90.2     10.0    7.58     44.9    1610       9.44        56.2   \n",
       "1        16.6     28.0    6.55     48.6    9930       4.49        76.3   \n",
       "2        27.3     38.4    4.17     31.4   12900      16.10        76.5   \n",
       "3       119.0     62.3    2.85     42.9    5900      22.40        60.1   \n",
       "4        10.3     45.5    6.03     58.9   19100       1.44        76.8   \n",
       "\n",
       "   total_fer   gdpp  \n",
       "0       5.82    553  \n",
       "1       1.65   4090  \n",
       "2       2.89   4460  \n",
       "3       6.16   3530  \n",
       "4       2.13  12200  "
      ]
     },
     "execution_count": 254,
     "metadata": {},
     "output_type": "execute_result"
    }
   ],
   "source": [
    "df.head()"
   ]
  },
  {
   "cell_type": "markdown",
   "id": "d901b7bf",
   "metadata": {},
   "source": [
    "Standardisation of values using MinMaxScaler"
   ]
  },
  {
   "cell_type": "code",
   "execution_count": 255,
   "id": "c284a9d0",
   "metadata": {},
   "outputs": [],
   "source": [
    "from sklearn.preprocessing import MinMaxScaler\n",
    "scaler = MinMaxScaler()\n",
    "df_scaled = pd.DataFrame(scaler.fit_transform(df), columns=df.columns)"
   ]
  },
  {
   "cell_type": "code",
   "execution_count": 373,
   "id": "3e3530fe",
   "metadata": {},
   "outputs": [
    {
     "data": {
      "text/html": [
       "<div>\n",
       "<style scoped>\n",
       "    .dataframe tbody tr th:only-of-type {\n",
       "        vertical-align: middle;\n",
       "    }\n",
       "\n",
       "    .dataframe tbody tr th {\n",
       "        vertical-align: top;\n",
       "    }\n",
       "\n",
       "    .dataframe thead th {\n",
       "        text-align: right;\n",
       "    }\n",
       "</style>\n",
       "<table border=\"1\" class=\"dataframe\">\n",
       "  <thead>\n",
       "    <tr style=\"text-align: right;\">\n",
       "      <th></th>\n",
       "      <th>child_mort</th>\n",
       "      <th>exports</th>\n",
       "      <th>health</th>\n",
       "      <th>imports</th>\n",
       "      <th>income</th>\n",
       "      <th>inflation</th>\n",
       "      <th>life_expec</th>\n",
       "      <th>total_fer</th>\n",
       "      <th>gdpp</th>\n",
       "    </tr>\n",
       "  </thead>\n",
       "  <tbody>\n",
       "    <tr>\n",
       "      <th>0</th>\n",
       "      <td>0.426485</td>\n",
       "      <td>0.049482</td>\n",
       "      <td>0.358608</td>\n",
       "      <td>0.257765</td>\n",
       "      <td>0.008047</td>\n",
       "      <td>0.126144</td>\n",
       "      <td>0.475345</td>\n",
       "      <td>0.736593</td>\n",
       "      <td>0.003073</td>\n",
       "    </tr>\n",
       "    <tr>\n",
       "      <th>1</th>\n",
       "      <td>0.068160</td>\n",
       "      <td>0.139531</td>\n",
       "      <td>0.294593</td>\n",
       "      <td>0.279037</td>\n",
       "      <td>0.074933</td>\n",
       "      <td>0.080399</td>\n",
       "      <td>0.871795</td>\n",
       "      <td>0.078864</td>\n",
       "      <td>0.036833</td>\n",
       "    </tr>\n",
       "    <tr>\n",
       "      <th>2</th>\n",
       "      <td>0.120253</td>\n",
       "      <td>0.191559</td>\n",
       "      <td>0.146675</td>\n",
       "      <td>0.180149</td>\n",
       "      <td>0.098809</td>\n",
       "      <td>0.187691</td>\n",
       "      <td>0.875740</td>\n",
       "      <td>0.274448</td>\n",
       "      <td>0.040365</td>\n",
       "    </tr>\n",
       "    <tr>\n",
       "      <th>3</th>\n",
       "      <td>0.566699</td>\n",
       "      <td>0.311125</td>\n",
       "      <td>0.064636</td>\n",
       "      <td>0.246266</td>\n",
       "      <td>0.042535</td>\n",
       "      <td>0.245911</td>\n",
       "      <td>0.552268</td>\n",
       "      <td>0.790221</td>\n",
       "      <td>0.031488</td>\n",
       "    </tr>\n",
       "    <tr>\n",
       "      <th>4</th>\n",
       "      <td>0.037488</td>\n",
       "      <td>0.227079</td>\n",
       "      <td>0.262275</td>\n",
       "      <td>0.338255</td>\n",
       "      <td>0.148652</td>\n",
       "      <td>0.052213</td>\n",
       "      <td>0.881657</td>\n",
       "      <td>0.154574</td>\n",
       "      <td>0.114242</td>\n",
       "    </tr>\n",
       "  </tbody>\n",
       "</table>\n",
       "</div>"
      ],
      "text/plain": [
       "   child_mort   exports    health   imports    income  inflation  life_expec  \\\n",
       "0    0.426485  0.049482  0.358608  0.257765  0.008047   0.126144    0.475345   \n",
       "1    0.068160  0.139531  0.294593  0.279037  0.074933   0.080399    0.871795   \n",
       "2    0.120253  0.191559  0.146675  0.180149  0.098809   0.187691    0.875740   \n",
       "3    0.566699  0.311125  0.064636  0.246266  0.042535   0.245911    0.552268   \n",
       "4    0.037488  0.227079  0.262275  0.338255  0.148652   0.052213    0.881657   \n",
       "\n",
       "   total_fer      gdpp  \n",
       "0   0.736593  0.003073  \n",
       "1   0.078864  0.036833  \n",
       "2   0.274448  0.040365  \n",
       "3   0.790221  0.031488  \n",
       "4   0.154574  0.114242  "
      ]
     },
     "execution_count": 373,
     "metadata": {},
     "output_type": "execute_result"
    }
   ],
   "source": [
    "df_scaled.head()"
   ]
  },
  {
   "cell_type": "markdown",
   "id": "ff4bda03",
   "metadata": {},
   "source": [
    "Using Elbow method to choose the number of clusters"
   ]
  },
  {
   "cell_type": "code",
   "execution_count": 510,
   "id": "48b8071a",
   "metadata": {},
   "outputs": [
    {
     "data": {
      "image/png": "[encoded data removed]",
      "text/plain": [
       "<Figure size 640x480 with 1 Axes>"
      ]
     },
     "metadata": {},
     "output_type": "display_data"
    }
   ],
   "source": [
    "\n",
    "from sklearn.cluster import KMeans\n",
    "import matplotlib.pyplot as plt\n",
    "sse = []\n",
    "for k in range(1,9):\n",
    "    kmeans = KMeans(n_clusters = k)\n",
    "    kmeans.fit(df_scaled)\n",
    "    sse.append(kmeans.inertia_)\n",
    "plt.plot(range(1, 9),sse)\n",
    "plt.xlabel('k')\n",
    "plt.ylabel('SSE')\n",
    "plt.show()"
   ]
  },
  {
   "cell_type": "code",
   "execution_count": 511,
   "id": "1d34e55d",
   "metadata": {},
   "outputs": [],
   "source": [
    "numpy_df = df_scaled.to_numpy()"
   ]
  },
  {
   "cell_type": "markdown",
   "id": "b4afec46",
   "metadata": {},
   "source": [
    "From the graph, let us choose number_of_clusters as 3\n",
    "Now we do the necessary computation to get 3 clusters"
   ]
  },
  {
   "cell_type": "code",
   "execution_count": 512,
   "id": "c83e884c",
   "metadata": {},
   "outputs": [
    {
     "name": "stdout",
     "output_type": "stream",
     "text": [
      "\n",
      "\n",
      "\n",
      "\n",
      "\n",
      "\n",
      "\n",
      "\n",
      "\n"
     ]
    }
   ],
   "source": [
    "n = 3\n",
    "from scipy.spatial.distance import euclidean\n",
    "numpy_df = df_scaled.to_numpy()\n",
    "    \n",
    "def kmeans(X):\n",
    "    # choosing 3 random points\n",
    "    c1 = np.zeros([10,9])\n",
    "    c2 = np.zeros([10,9])\n",
    "    c3 = np.zeros([10,9])\n",
    "    c1[0] = X[10]\n",
    "    c2[0] = X[20]\n",
    "    c3[0] = X[30]\n",
    "    merged_df_list = []\n",
    "    m = 1\n",
    "    for n in range(10):\n",
    "        # finding the euclidean distance between all observations and the random points chosen\n",
    "        \n",
    "        distance1 = [euclidean(X[i],c1[n]) for i in range(0,166)]\n",
    "        distance2 = [euclidean(X[i],c2[n]) for i in range(0,166)]\n",
    "        distance3 = [euclidean(X[i],c3[n]) for i in range(0,166)]\n",
    "        \n",
    "        dis1 = pd.DataFrame(distance1)\n",
    "        dis2 = pd.DataFrame(distance2)\n",
    "        dis3 = pd.DataFrame(distance3)\n",
    "        # creating a merged matrix of distances\n",
    "        iter_matrix = pd.concat([dis1, dis2, dis3], axis=1).to_numpy()\n",
    "        \n",
    "        # creating an array of minimum values of the distances from each row\n",
    "        min_values = np.amin(iter_matrix, axis=1)\n",
    "        \n",
    "        # creating an array of zeros\n",
    "        cluster_column = np.zeros([167,1])\n",
    "        \n",
    "        #assigning value '0' if the minimum distance calculated is from cluster 1,'1' if its from cluster 2, '2' if it is from cluster 3\n",
    "        \n",
    "        for j in range(0,iter_matrix.shape[0]):\n",
    "            for i in range(0,iter_matrix.shape[1]):\n",
    "                if iter_matrix[j][i] == min_values[j]:\n",
    "                    cluster_column[j] = (i)\n",
    "                    break\n",
    "        \n",
    "        # concatenating the original dataframe with the cluster label\n",
    "        clus_col_with_obs = np.concatenate((X,cluster_column),axis=1)\n",
    "        clus_with_obs_df = pd.DataFrame(clus_col_with_obs,columns = ['x1','x2','x3','x4','x5','x6','x7','x8','x9','cluster'])\n",
    "        \n",
    "        #creating a dataframe for each cluster that contains the observations in each cluster\n",
    "        \n",
    "        clus1 = clus_with_obs[clus_with_obs['cluster']==0].drop(['cluster'],axis = 1)\n",
    "        clus2 = clus_with_obs[clus_with_obs['cluster']==1].drop(['cluster'],axis = 1)\n",
    "        clus3 = clus_with_obs[clus_with_obs['cluster']==2].drop(['cluster'],axis = 1)\n",
    "        # the new centroid values will keep getting updated for each iteration\n",
    "        # to end the iterations, I have kept a condition saying that if the matrix of 10x9 of c1 is full, thn end the for loop\n",
    "        if (c1 == 0).any():\n",
    "            print(\"\")\n",
    "        else:\n",
    "            break\n",
    "        # calculating the centroid for each cluster and updating them to the cluster matrices respectively\n",
    "        c1[m] = clus1.mean()\n",
    "        c2[m] = clus2.mean()\n",
    "        c3[m] = clus3.mean()\n",
    "        m = m+1\n",
    "    return clus1,clus2,clus3,clus_with_obs_df\n",
    "    \n",
    "        \n",
    "clus1,clus2,clus3,clus_with_obs = kmeans(numpy_df)\n"
   ]
  },
  {
   "cell_type": "code",
   "execution_count": 513,
   "id": "bbac07fc",
   "metadata": {},
   "outputs": [
    {
     "data": {
      "text/html": [
       "<div>\n",
       "<style scoped>\n",
       "    .dataframe tbody tr th:only-of-type {\n",
       "        vertical-align: middle;\n",
       "    }\n",
       "\n",
       "    .dataframe tbody tr th {\n",
       "        vertical-align: top;\n",
       "    }\n",
       "\n",
       "    .dataframe thead th {\n",
       "        text-align: right;\n",
       "    }\n",
       "</style>\n",
       "<table border=\"1\" class=\"dataframe\">\n",
       "  <thead>\n",
       "    <tr style=\"text-align: right;\">\n",
       "      <th></th>\n",
       "      <th>x1</th>\n",
       "      <th>x2</th>\n",
       "      <th>x3</th>\n",
       "      <th>x4</th>\n",
       "      <th>x5</th>\n",
       "      <th>x6</th>\n",
       "      <th>x7</th>\n",
       "      <th>x8</th>\n",
       "      <th>x9</th>\n",
       "      <th>cluster</th>\n",
       "    </tr>\n",
       "  </thead>\n",
       "  <tbody>\n",
       "    <tr>\n",
       "      <th>0</th>\n",
       "      <td>0.426485</td>\n",
       "      <td>0.049482</td>\n",
       "      <td>0.358608</td>\n",
       "      <td>0.257765</td>\n",
       "      <td>0.008047</td>\n",
       "      <td>0.126144</td>\n",
       "      <td>0.475345</td>\n",
       "      <td>0.736593</td>\n",
       "      <td>0.003073</td>\n",
       "      <td>2.0</td>\n",
       "    </tr>\n",
       "    <tr>\n",
       "      <th>1</th>\n",
       "      <td>0.068160</td>\n",
       "      <td>0.139531</td>\n",
       "      <td>0.294593</td>\n",
       "      <td>0.279037</td>\n",
       "      <td>0.074933</td>\n",
       "      <td>0.080399</td>\n",
       "      <td>0.871795</td>\n",
       "      <td>0.078864</td>\n",
       "      <td>0.036833</td>\n",
       "      <td>1.0</td>\n",
       "    </tr>\n",
       "    <tr>\n",
       "      <th>2</th>\n",
       "      <td>0.120253</td>\n",
       "      <td>0.191559</td>\n",
       "      <td>0.146675</td>\n",
       "      <td>0.180149</td>\n",
       "      <td>0.098809</td>\n",
       "      <td>0.187691</td>\n",
       "      <td>0.875740</td>\n",
       "      <td>0.274448</td>\n",
       "      <td>0.040365</td>\n",
       "      <td>1.0</td>\n",
       "    </tr>\n",
       "    <tr>\n",
       "      <th>3</th>\n",
       "      <td>0.566699</td>\n",
       "      <td>0.311125</td>\n",
       "      <td>0.064636</td>\n",
       "      <td>0.246266</td>\n",
       "      <td>0.042535</td>\n",
       "      <td>0.245911</td>\n",
       "      <td>0.552268</td>\n",
       "      <td>0.790221</td>\n",
       "      <td>0.031488</td>\n",
       "      <td>2.0</td>\n",
       "    </tr>\n",
       "    <tr>\n",
       "      <th>4</th>\n",
       "      <td>0.037488</td>\n",
       "      <td>0.227079</td>\n",
       "      <td>0.262275</td>\n",
       "      <td>0.338255</td>\n",
       "      <td>0.148652</td>\n",
       "      <td>0.052213</td>\n",
       "      <td>0.881657</td>\n",
       "      <td>0.154574</td>\n",
       "      <td>0.114242</td>\n",
       "      <td>1.0</td>\n",
       "    </tr>\n",
       "  </tbody>\n",
       "</table>\n",
       "</div>"
      ],
      "text/plain": [
       "         x1        x2        x3        x4        x5        x6        x7  \\\n",
       "0  0.426485  0.049482  0.358608  0.257765  0.008047  0.126144  0.475345   \n",
       "1  0.068160  0.139531  0.294593  0.279037  0.074933  0.080399  0.871795   \n",
       "2  0.120253  0.191559  0.146675  0.180149  0.098809  0.187691  0.875740   \n",
       "3  0.566699  0.311125  0.064636  0.246266  0.042535  0.245911  0.552268   \n",
       "4  0.037488  0.227079  0.262275  0.338255  0.148652  0.052213  0.881657   \n",
       "\n",
       "         x8        x9  cluster  \n",
       "0  0.736593  0.003073      2.0  \n",
       "1  0.078864  0.036833      1.0  \n",
       "2  0.274448  0.040365      1.0  \n",
       "3  0.790221  0.031488      2.0  \n",
       "4  0.154574  0.114242      1.0  "
      ]
     },
     "execution_count": 513,
     "metadata": {},
     "output_type": "execute_result"
    }
   ],
   "source": [
    "clus_with_obs.head()"
   ]
  },
  {
   "cell_type": "code",
   "execution_count": 514,
   "id": "6bd244b7",
   "metadata": {},
   "outputs": [],
   "source": [
    "from sklearn.metrics import silhouette_score"
   ]
  },
  {
   "cell_type": "code",
   "execution_count": 515,
   "id": "dd03e1a6",
   "metadata": {},
   "outputs": [
    {
     "data": {
      "text/plain": [
       "0.3280758494695637"
      ]
     },
     "execution_count": 515,
     "metadata": {},
     "output_type": "execute_result"
    }
   ],
   "source": [
    "# Calculate the silhouette score\n",
    "score = silhouette_score(df_scaled,clus_with_obs['cluster'])\n",
    "score"
   ]
  },
  {
   "cell_type": "markdown",
   "id": "340acaee",
   "metadata": {},
   "source": [
    "PCA Analysis"
   ]
  },
  {
   "cell_type": "code",
   "execution_count": 401,
   "id": "03f94a0e",
   "metadata": {},
   "outputs": [
    {
     "data": {
      "text/html": [
       "<div>\n",
       "<style scoped>\n",
       "    .dataframe tbody tr th:only-of-type {\n",
       "        vertical-align: middle;\n",
       "    }\n",
       "\n",
       "    .dataframe tbody tr th {\n",
       "        vertical-align: top;\n",
       "    }\n",
       "\n",
       "    .dataframe thead th {\n",
       "        text-align: right;\n",
       "    }\n",
       "</style>\n",
       "<table border=\"1\" class=\"dataframe\">\n",
       "  <thead>\n",
       "    <tr style=\"text-align: right;\">\n",
       "      <th></th>\n",
       "      <th>child_mort</th>\n",
       "      <th>exports</th>\n",
       "      <th>health</th>\n",
       "      <th>imports</th>\n",
       "      <th>income</th>\n",
       "      <th>inflation</th>\n",
       "      <th>life_expec</th>\n",
       "      <th>total_fer</th>\n",
       "      <th>gdpp</th>\n",
       "    </tr>\n",
       "  </thead>\n",
       "  <tbody>\n",
       "    <tr>\n",
       "      <th>0</th>\n",
       "      <td>90.2</td>\n",
       "      <td>10.0</td>\n",
       "      <td>7.58</td>\n",
       "      <td>44.9</td>\n",
       "      <td>1610</td>\n",
       "      <td>9.44</td>\n",
       "      <td>56.2</td>\n",
       "      <td>5.82</td>\n",
       "      <td>553</td>\n",
       "    </tr>\n",
       "    <tr>\n",
       "      <th>1</th>\n",
       "      <td>16.6</td>\n",
       "      <td>28.0</td>\n",
       "      <td>6.55</td>\n",
       "      <td>48.6</td>\n",
       "      <td>9930</td>\n",
       "      <td>4.49</td>\n",
       "      <td>76.3</td>\n",
       "      <td>1.65</td>\n",
       "      <td>4090</td>\n",
       "    </tr>\n",
       "    <tr>\n",
       "      <th>2</th>\n",
       "      <td>27.3</td>\n",
       "      <td>38.4</td>\n",
       "      <td>4.17</td>\n",
       "      <td>31.4</td>\n",
       "      <td>12900</td>\n",
       "      <td>16.10</td>\n",
       "      <td>76.5</td>\n",
       "      <td>2.89</td>\n",
       "      <td>4460</td>\n",
       "    </tr>\n",
       "    <tr>\n",
       "      <th>3</th>\n",
       "      <td>119.0</td>\n",
       "      <td>62.3</td>\n",
       "      <td>2.85</td>\n",
       "      <td>42.9</td>\n",
       "      <td>5900</td>\n",
       "      <td>22.40</td>\n",
       "      <td>60.1</td>\n",
       "      <td>6.16</td>\n",
       "      <td>3530</td>\n",
       "    </tr>\n",
       "    <tr>\n",
       "      <th>4</th>\n",
       "      <td>10.3</td>\n",
       "      <td>45.5</td>\n",
       "      <td>6.03</td>\n",
       "      <td>58.9</td>\n",
       "      <td>19100</td>\n",
       "      <td>1.44</td>\n",
       "      <td>76.8</td>\n",
       "      <td>2.13</td>\n",
       "      <td>12200</td>\n",
       "    </tr>\n",
       "  </tbody>\n",
       "</table>\n",
       "</div>"
      ],
      "text/plain": [
       "   child_mort  exports  health  imports  income  inflation  life_expec  \\\n",
       "0        90.2     10.0    7.58     44.9    1610       9.44        56.2   \n",
       "1        16.6     28.0    6.55     48.6    9930       4.49        76.3   \n",
       "2        27.3     38.4    4.17     31.4   12900      16.10        76.5   \n",
       "3       119.0     62.3    2.85     42.9    5900      22.40        60.1   \n",
       "4        10.3     45.5    6.03     58.9   19100       1.44        76.8   \n",
       "\n",
       "   total_fer   gdpp  \n",
       "0       5.82    553  \n",
       "1       1.65   4090  \n",
       "2       2.89   4460  \n",
       "3       6.16   3530  \n",
       "4       2.13  12200  "
      ]
     },
     "execution_count": 401,
     "metadata": {},
     "output_type": "execute_result"
    }
   ],
   "source": [
    "df.head()"
   ]
  },
  {
   "cell_type": "code",
   "execution_count": 408,
   "id": "325e0e0a",
   "metadata": {},
   "outputs": [],
   "source": [
    "X = df_scaled.values"
   ]
  },
  {
   "cell_type": "markdown",
   "id": "d4b515a4",
   "metadata": {},
   "source": [
    "Centering the data"
   ]
  },
  {
   "cell_type": "code",
   "execution_count": null,
   "id": "77339758",
   "metadata": {},
   "outputs": [],
   "source": [
    "X_centered = X - np.mean(X , axis = 0)\n",
    "X_centered"
   ]
  },
  {
   "cell_type": "markdown",
   "id": "53433d0a",
   "metadata": {},
   "source": [
    "Calculating the Covariance Matrix"
   ]
  },
  {
   "cell_type": "code",
   "execution_count": 411,
   "id": "1a18c864",
   "metadata": {},
   "outputs": [
    {
     "data": {
      "text/plain": [
       "(9, 9)"
      ]
     },
     "execution_count": 411,
     "metadata": {},
     "output_type": "execute_result"
    }
   ],
   "source": [
    "cov_mat = np.cov(X_meaned , rowvar = False)\n",
    "cov_mat.shape\n",
    "# the covariance matrix will be a 9x9 matrix as there are 9 variables"
   ]
  },
  {
   "cell_type": "markdown",
   "id": "7823aa81",
   "metadata": {},
   "source": [
    "Calculating teh EigenVectors and EiegenValues using Covariance matrix"
   ]
  },
  {
   "cell_type": "code",
   "execution_count": 412,
   "id": "d5480208",
   "metadata": {},
   "outputs": [],
   "source": [
    "eigen_values , eigen_vectors = np.linalg.eigh(cov_mat)"
   ]
  },
  {
   "cell_type": "markdown",
   "id": "46700088",
   "metadata": {},
   "source": [
    "Sorting the Eigen values in descendiung order"
   ]
  },
  {
   "cell_type": "code",
   "execution_count": 417,
   "id": "561aca9c",
   "metadata": {},
   "outputs": [],
   "source": [
    "sorted_index = np.argsort(eigen_values)[::-1]\n",
    "sorted_eigenvalue = eigen_values[sorted_index]\n",
    "sorted_eigenvectors = eigen_vectors[:,sorted_index]"
   ]
  },
  {
   "cell_type": "markdown",
   "id": "9bd0b124",
   "metadata": {},
   "source": [
    "Select the dimension we want to reduce to"
   ]
  },
  {
   "cell_type": "code",
   "execution_count": 423,
   "id": "f9c798e4",
   "metadata": {},
   "outputs": [
    {
     "data": {
      "text/plain": [
       "array([[-8.07327698e-04,  5.57055026e-04],\n",
       "       [ 5.11348092e-04, -9.41707964e-04],\n",
       "       [ 2.52724061e-05,  2.15627987e-04],\n",
       "       [ 1.14384869e-04, -5.41883715e-05],\n",
       "       [ 7.26746756e-01, -6.86903991e-01],\n",
       "       [-7.65998651e-05, -2.85616792e-04],\n",
       "       [ 2.13850032e-04, -2.66353737e-05],\n",
       "       [-2.87952778e-05,  2.40728708e-05],\n",
       "       [ 6.86904777e-01,  7.26747258e-01]])"
      ]
     },
     "execution_count": 423,
     "metadata": {},
     "output_type": "execute_result"
    }
   ],
   "source": [
    "n_components = 2\n",
    "eigenvector_subset = sorted_eigenvectors[:,0:n_components]"
   ]
  },
  {
   "cell_type": "markdown",
   "id": "38634064",
   "metadata": {},
   "source": [
    "Transforming the data from 9 dimensions to 2 dimensiuons"
   ]
  },
  {
   "cell_type": "code",
   "execution_count": 477,
   "id": "989beb73",
   "metadata": {},
   "outputs": [],
   "source": [
    "X_reduced = np.dot(eigenvector_subset.transpose(),X_centered.transpose()).transpose()\n",
    "X_reduced = pd.DataFrame(X_reduced, columns = ['var1','var2'])"
   ]
  },
  {
   "cell_type": "code",
   "execution_count": 478,
   "id": "9da311aa",
   "metadata": {},
   "outputs": [],
   "source": [
    "cluster_label = clus_with_obs['cluster']"
   ]
  },
  {
   "cell_type": "code",
   "execution_count": 481,
   "id": "9e7890e4",
   "metadata": {},
   "outputs": [],
   "source": [
    "X_reduced_with_cluster = pd.concat((X_reduced,cluster_label), axis=1)"
   ]
  },
  {
   "cell_type": "code",
   "execution_count": 487,
   "id": "54937998",
   "metadata": {},
   "outputs": [],
   "source": [
    "dim_reduced_clus1 = X_reduced_with_cluster[X_reduced_with_cluster['cluster']==0].drop(['cluster'],axis = 1)\n",
    "dim_reduced_clus2 = X_reduced_with_cluster[X_reduced_with_cluster['cluster']==1].drop(['cluster'],axis = 1)\n",
    "dim_reduced_clus3 = X_reduced_with_cluster[X_reduced_with_cluster['cluster']==2].drop(['cluster'],axis = 1)"
   ]
  },
  {
   "cell_type": "markdown",
   "id": "0a486e9d",
   "metadata": {},
   "source": [
    "Visualising the transformed data (in 2 dimensions)"
   ]
  },
  {
   "cell_type": "code",
   "execution_count": 488,
   "id": "fa699d4c",
   "metadata": {},
   "outputs": [],
   "source": [
    "import seaborn as sb"
   ]
  },
  {
   "cell_type": "code",
   "execution_count": 496,
   "id": "95509975",
   "metadata": {},
   "outputs": [
    {
     "data": {
      "text/plain": [
       "<AxesSubplot:xlabel='var1', ylabel='var2'>"
      ]
     },
     "execution_count": 496,
     "metadata": {},
     "output_type": "execute_result"
    },
    {
     "data": {
      "text/plain": [
       "<Figure size 600x600 with 0 Axes>"
      ]
     },
     "metadata": {},
     "output_type": "display_data"
    },
    {
     "data": {
      "image/png": "[encoded data removed]",
      "text/plain": [
       "<Figure size 640x480 with 1 Axes>"
      ]
     },
     "metadata": {},
     "output_type": "display_data"
    }
   ],
   "source": [
    "plt.figure(figsize = (6,6))\n",
    "axes = dim_reduced_clus1.plot(kind = 'scatter', x = 'var1',y = 'var2',color = 'green',label = 'cluster1')\n",
    "axes1 = dim_reduced_clus2.plot(kind = 'scatter', x = 'var1',y = 'var2',color = 'red',label = 'cluster2',ax = axes)\n",
    "dim_reduced_clus3.plot(kind = 'scatter', x = 'var1',y = 'var2',color = 'blue',label = 'cluster3',ax = axes1)"
   ]
  },
  {
   "cell_type": "code",
   "execution_count": null,
   "id": "428b908e",
   "metadata": {},
   "outputs": [],
   "source": []
  }
 ],
 "metadata": {
  "kernelspec": {
   "display_name": "Python 3 (ipykernel)",
   "language": "python",
   "name": "python3"
  },
  "language_info": {
   "codemirror_mode": {
    "name": "ipython",
    "version": 3
   },
   "file_extension": ".py",
   "mimetype": "text/x-python",
   "name": "python",
   "nbconvert_exporter": "python",
   "pygments_lexer": "ipython3",
   "version": "3.9.13"
  }
 },
 "nbformat": 4,
 "nbformat_minor": 5
}
